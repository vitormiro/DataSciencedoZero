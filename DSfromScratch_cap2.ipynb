{
  "nbformat": 4,
  "nbformat_minor": 0,
  "metadata": {
    "colab": {
      "name": "DSfromScratch_cap2.ipynb",
      "provenance": [],
      "collapsed_sections": [],
      "authorship_tag": "ABX9TyNjLtLQp2hjF5prxtFydRj6",
      "include_colab_link": true
    },
    "kernelspec": {
      "name": "python3",
      "display_name": "Python 3"
    }
  },
  "cells": [
    {
      "cell_type": "markdown",
      "metadata": {
        "id": "view-in-github",
        "colab_type": "text"
      },
      "source": [
        "<a href=\"https://colab.research.google.com/github/vitormiro/DataSciencedoZero/blob/master/DSfromScratch_cap2.ipynb\" target=\"_parent\"><img src=\"https://colab.research.google.com/assets/colab-badge.svg\" alt=\"Open In Colab\"/></a>"
      ]
    },
    {
      "cell_type": "markdown",
      "metadata": {
        "id": "iN4fZwSsy-P_",
        "colab_type": "text"
      },
      "source": [
        "# **Data Science do zero**\n",
        "\n",
        "*Data Science from Scratch: First Principles with Python* de Joel Grus "
      ]
    },
    {
      "cell_type": "markdown",
      "metadata": {
        "id": "zBN9-N4ezC1u",
        "colab_type": "text"
      },
      "source": [
        "## Capítulo 2 - Curso Relâmpago de Python\n",
        "\n",
        "- Download do Python: [https://www.python.org/](https://www.python.org/)\n",
        "\n",
        "- Para que trabalha com Data Science, é recomendável a instalação da distribuição Anaconda, que já contém a maioria das bibliotecas necessárias: [https://www.anaconda.com/](https://www.anaconda.com/)\n",
        "\n",
        "- Aqui utilizamos o Python 3.\n",
        "\n",
        "- Uma ótima alternativa é utilizar o Google Colaboratory."
      ]
    },
    {
      "cell_type": "markdown",
      "metadata": {
        "id": "shO5YQi9-ypT",
        "colab_type": "text"
      },
      "source": [
        "### O básico\n",
        "Python possui uma descrição Zen de seus princípios de design."
      ]
    },
    {
      "cell_type": "code",
      "metadata": {
        "id": "zIab2gSty8h-",
        "colab_type": "code",
        "colab": {
          "base_uri": "https://localhost:8080/",
          "height": 381
        },
        "outputId": "33082b8c-f3c9-4f87-b5a8-c6ec13ed7870"
      },
      "source": [
        "import this"
      ],
      "execution_count": null,
      "outputs": [
        {
          "output_type": "stream",
          "text": [
            "The Zen of Python, by Tim Peters\n",
            "\n",
            "Beautiful is better than ugly.\n",
            "Explicit is better than implicit.\n",
            "Simple is better than complex.\n",
            "Complex is better than complicated.\n",
            "Flat is better than nested.\n",
            "Sparse is better than dense.\n",
            "Readability counts.\n",
            "Special cases aren't special enough to break the rules.\n",
            "Although practicality beats purity.\n",
            "Errors should never pass silently.\n",
            "Unless explicitly silenced.\n",
            "In the face of ambiguity, refuse the temptation to guess.\n",
            "There should be one-- and preferably only one --obvious way to do it.\n",
            "Although that way may not be obvious at first unless you're Dutch.\n",
            "Now is better than never.\n",
            "Although never is often better than *right* now.\n",
            "If the implementation is hard to explain, it's a bad idea.\n",
            "If the implementation is easy to explain, it may be a good idea.\n",
            "Namespaces are one honking great idea -- let's do more of those!\n"
          ],
          "name": "stdout"
        }
      ]
    },
    {
      "cell_type": "markdown",
      "metadata": {
        "id": "7telZvhA1xok",
        "colab_type": "text"
      },
      "source": [
        "Segundo o autor, o principio mais discutido é o seguinte:\n",
        "\n",
        "\"*There should be one-- and preferably only one --obvious way to do it.*\"\n",
        "\n",
        "\"Deveria haver um - de preferência apenas um - modo óbvio de fazê-lo\".\n",
        "\n",
        "Esse modo óbvio é chamado de \"Pythonic\".\n",
        "\n",
        "*Nota*:\n",
        "\n",
        "Mas o que ele quer dizer com isso? Podem existir diferentes formas de executar uma ação no Python, e algumas delas podem ser melhores do que outras. Algumas instruções podem ser mais rápidas, didáticas ou \"limpas\" para executar determinadas tarefas. Devemos sempre preferir estas formas. Se você conhecer uma melhor forma de fazer algo, deve sempre optar por ela.\n",
        "Como o autor enfatiza, isso deve ser óbvio. No entanto, algumas vezes não conhecemos a \"melhor forma\". Por isso, devemos sempre tentar aprimorar nossos códigos, pesquisando e estudando.\n",
        "Existe um conceito de \"Refactoring code\", que é o processo de fazer alterações ou melhorias no código existente, para torná-lo mais limpo, enxuto ou mais rápido; mesmo que o resultado final seja o mesmo que o do código subjacente."
      ]
    },
    {
      "cell_type": "markdown",
      "metadata": {
        "id": "qAbcFv3_2ZN0",
        "colab_type": "text"
      },
      "source": [
        "### Formatação de Espaços em Branco\n",
        "\n",
        "Muitas linguagens usam chaves `{  }` para delimitar blocos de código.\n",
        "Python usa identação. "
      ]
    },
    {
      "cell_type": "code",
      "metadata": {
        "id": "XJPTjIU82YsK",
        "colab_type": "code",
        "colab": {
          "base_uri": "https://localhost:8080/",
          "height": 1000
        },
        "outputId": "bb83de32-61af-4f8d-fc56-a63d5440c145"
      },
      "source": [
        "for i in [1, 2, 3, 4, 5]:\n",
        "    print (i) # primeira linha para o bloco “for i”\n",
        "    for j in [1, 2, 3, 4, 5]:\n",
        "        print (j) # primeira linha para o bloco “for j”\n",
        "        print (i + j) # última linha para o bloco “for j”\n",
        "    print (i) # última linha para o bloco “for i”\n",
        "print (\"done looping\")"
      ],
      "execution_count": null,
      "outputs": [
        {
          "output_type": "stream",
          "text": [
            "1\n",
            "1\n",
            "2\n",
            "2\n",
            "3\n",
            "3\n",
            "4\n",
            "4\n",
            "5\n",
            "5\n",
            "6\n",
            "1\n",
            "2\n",
            "1\n",
            "3\n",
            "2\n",
            "4\n",
            "3\n",
            "5\n",
            "4\n",
            "6\n",
            "5\n",
            "7\n",
            "2\n",
            "3\n",
            "1\n",
            "4\n",
            "2\n",
            "5\n",
            "3\n",
            "6\n",
            "4\n",
            "7\n",
            "5\n",
            "8\n",
            "3\n",
            "4\n",
            "1\n",
            "5\n",
            "2\n",
            "6\n",
            "3\n",
            "7\n",
            "4\n",
            "8\n",
            "5\n",
            "9\n",
            "4\n",
            "5\n",
            "1\n",
            "6\n",
            "2\n",
            "7\n",
            "3\n",
            "8\n",
            "4\n",
            "9\n",
            "5\n",
            "10\n",
            "5\n",
            "done looping\n"
          ],
          "name": "stdout"
        }
      ]
    },
    {
      "cell_type": "markdown",
      "metadata": {
        "id": "OgB1X6Xd3Jlj",
        "colab_type": "text"
      },
      "source": [
        "Isso faz com que o código Python seja bem legível, mas também significa que você tem que ser muito cuidadoso com a sua formatação. O espaço em branco é ignorado dentro dos parênteses e colchetes, o que poder ser muito útil em computações intermináveis:"
      ]
    },
    {
      "cell_type": "code",
      "metadata": {
        "id": "ePbL-O311jYu",
        "colab_type": "code",
        "colab": {}
      },
      "source": [
        "\n",
        "long_winded_computation = (1 + 2 + 3 + 4 + 5 + 6 + 7 + 8 + 9 + 10 + 11 + 12 +\n",
        "13 + 14 + 15 + 16 + 17 + 18 + 19 + 20)"
      ],
      "execution_count": null,
      "outputs": []
    },
    {
      "cell_type": "markdown",
      "metadata": {
        "id": "_qRYlAQN3SJH",
        "colab_type": "text"
      },
      "source": [
        "e para facilitar a leitura:"
      ]
    },
    {
      "cell_type": "code",
      "metadata": {
        "id": "jc9pi3N13O2L",
        "colab_type": "code",
        "colab": {}
      },
      "source": [
        "list_of_lists = [[1, 2, 3], [4, 5, 6], [7, 8, 9]]\n",
        "easier_to_read_list_of_lists = [ [1, 2, 3],\n",
        "                                [4, 5, 6],\n",
        "                                [7, 8, 9] ]"
      ],
      "execution_count": null,
      "outputs": []
    },
    {
      "cell_type": "markdown",
      "metadata": {
        "id": "jlFYLiCU3br3",
        "colab_type": "text"
      },
      "source": [
        "Você também pode usar uma barra invertida para indicar que uma declaração continua na próxima linha, apesar de raramente fazermos isso:"
      ]
    },
    {
      "cell_type": "code",
      "metadata": {
        "id": "SJPsVRrr3bJg",
        "colab_type": "code",
        "colab": {}
      },
      "source": [
        "two_plus_three = 2 + \\\n",
        "3"
      ],
      "execution_count": null,
      "outputs": []
    },
    {
      "cell_type": "markdown",
      "metadata": {
        "id": "QnXlldOf6pjh",
        "colab_type": "text"
      },
      "source": [
        "### Módulos\n",
        "\n",
        "Alguns recursos de Python não são carregados por padrão.\n",
        "\n",
        "Para usar esses recursos, você precisará \"importar\" os módulos que os contêm.\n",
        "\n",
        "Uma abordagem simplesmente é importar o próprio módulo:"
      ]
    },
    {
      "cell_type": "code",
      "metadata": {
        "id": "COUqKPjj66Rr",
        "colab_type": "code",
        "colab": {}
      },
      "source": [
        "import re\n",
        "my_regex = re.compile(\"[0-9]+\", re.I)"
      ],
      "execution_count": null,
      "outputs": []
    },
    {
      "cell_type": "markdown",
      "metadata": {
        "id": "e44N3Qdj7DnB",
        "colab_type": "text"
      },
      "source": [
        "Aqui, `re` é o módulo que contém as funções e constantes para trabalhar com expressões regulares. Após esse tipo de `import` , você somente pode acessar tais funções usando o prefixo `re ...`\n",
        "\n",
        "Se você já tiver um `re` diferente no seu código você poderia usar um *alias*:"
      ]
    },
    {
      "cell_type": "code",
      "metadata": {
        "id": "6elMJYSB7Kqf",
        "colab_type": "code",
        "colab": {}
      },
      "source": [
        "import re as regex\n",
        "my_regex = regex.compile(\"[0-9]+\", regex.I)"
      ],
      "execution_count": null,
      "outputs": []
    },
    {
      "cell_type": "markdown",
      "metadata": {
        "id": "jqX3mRmY7U9u",
        "colab_type": "text"
      },
      "source": [
        "\n",
        "Você talvez queira fazer isso se o seu módulo tem um nome complicado ou se você vai digitar bastante. Por exemplo, ao visualizar dados com `matplotlib`, uma convenção padrão é:"
      ]
    },
    {
      "cell_type": "code",
      "metadata": {
        "id": "fkcBnnTD6UiI",
        "colab_type": "code",
        "colab": {}
      },
      "source": [
        "import matplotlib.pyplot as plt"
      ],
      "execution_count": null,
      "outputs": []
    },
    {
      "cell_type": "markdown",
      "metadata": {
        "id": "dszN64qt7dNV",
        "colab_type": "text"
      },
      "source": [
        "Se você precisar de alguns valores específicos de um módulo, pode importá-los explicitamente e usá-los sem qualificação:"
      ]
    },
    {
      "cell_type": "code",
      "metadata": {
        "id": "d5lulSp37ecV",
        "colab_type": "code",
        "colab": {}
      },
      "source": [
        "from collections import defaultdict, Counter\n",
        "lookup = defaultdict(int)\n",
        "my_counter = Counter()"
      ],
      "execution_count": null,
      "outputs": []
    },
    {
      "cell_type": "markdown",
      "metadata": {
        "id": "8JDfxspH7zJ5",
        "colab_type": "text"
      },
      "source": [
        "### Funções\n",
        "\n",
        "Uma função é uma regra para pegar zero e mais entradas e retornar uma saída correspondente. Em Python, definimos as funções usando `def`:"
      ]
    },
    {
      "cell_type": "code",
      "metadata": {
        "id": "MpzR9sSy7hsE",
        "colab_type": "code",
        "colab": {}
      },
      "source": [
        "def double(x):\n",
        "    \"\"\"aqui é onde você coloca um docstring (cadeia de caracteres de documentação) opcional\n",
        "    que explica o que a função faz.\n",
        "    por exemplo, esta função multiplica sua entrada por 2\"\"\"\n",
        "    return x * 2"
      ],
      "execution_count": null,
      "outputs": []
    },
    {
      "cell_type": "markdown",
      "metadata": {
        "id": "wU_AdkwQ8DnS",
        "colab_type": "text"
      },
      "source": [
        "Vamos executar:"
      ]
    },
    {
      "cell_type": "code",
      "metadata": {
        "id": "sWMuQ_xi7aO1",
        "colab_type": "code",
        "colab": {
          "base_uri": "https://localhost:8080/",
          "height": 35
        },
        "outputId": "b2d289f5-64c3-4423-a90b-58ab7e8b5cdb"
      },
      "source": [
        "double(2)"
      ],
      "execution_count": null,
      "outputs": [
        {
          "output_type": "execute_result",
          "data": {
            "text/plain": [
              "4"
            ]
          },
          "metadata": {
            "tags": []
          },
          "execution_count": 14
        }
      ]
    },
    {
      "cell_type": "markdown",
      "metadata": {
        "id": "jQ2bw2y-8MHy",
        "colab_type": "text"
      },
      "source": [
        "As funções de Python são de primeira classe, o que significa que podemos atribuí-las a variáveis e passá-las para as funções como quaisquer outros argumentos:"
      ]
    },
    {
      "cell_type": "code",
      "metadata": {
        "id": "Obm3i9-F8HHz",
        "colab_type": "code",
        "colab": {
          "base_uri": "https://localhost:8080/",
          "height": 35
        },
        "outputId": "2801650f-31fc-4e7e-fbfc-5c288f9d6d3a"
      },
      "source": [
        "def apply_to_one(f):\n",
        "    \"\"\"chama a função f com 1 como seu argumento \"\"\"\n",
        "    return f(1)\n",
        "\n",
        "my_double = double\n",
        "x = apply_to_one(my_double)\n",
        "print(x)"
      ],
      "execution_count": null,
      "outputs": [
        {
          "output_type": "stream",
          "text": [
            "2\n"
          ],
          "name": "stdout"
        }
      ]
    },
    {
      "cell_type": "markdown",
      "metadata": {
        "id": "w_0wvL438iUD",
        "colab_type": "text"
      },
      "source": [
        "Também é fácil criar pequenas funções anônimas, conhecidas como *lambdas*:"
      ]
    },
    {
      "cell_type": "code",
      "metadata": {
        "id": "PRc_OnC58YvQ",
        "colab_type": "code",
        "colab": {
          "base_uri": "https://localhost:8080/",
          "height": 35
        },
        "outputId": "f1c4b5f1-9717-448f-c99b-1f4411f49dee"
      },
      "source": [
        "y = apply_to_one(lambda x: x + 4)\n",
        "print(y)"
      ],
      "execution_count": null,
      "outputs": [
        {
          "output_type": "stream",
          "text": [
            "5\n"
          ],
          "name": "stdout"
        }
      ]
    },
    {
      "cell_type": "markdown",
      "metadata": {
        "id": "FDlE6dKL815M",
        "colab_type": "text"
      },
      "source": [
        "Você pode atribuir lambdas a variáveis, apesar de que maioria das pessoas lhe dirão para usar `def`:"
      ]
    },
    {
      "cell_type": "code",
      "metadata": {
        "id": "WNgJvb7q84lZ",
        "colab_type": "code",
        "colab": {}
      },
      "source": [
        "another_double = lambda x: 2 * x # Não faça isso\n",
        "def another_double(x): return 2 * x # Faça isso"
      ],
      "execution_count": null,
      "outputs": []
    },
    {
      "cell_type": "markdown",
      "metadata": {
        "id": "DiYcXjil9IHc",
        "colab_type": "text"
      },
      "source": [
        "Os parâmetros de uma função também podem receber argumentos padrões, que só precisam ser especificados quando você quiser um valor além do padrão:"
      ]
    },
    {
      "cell_type": "code",
      "metadata": {
        "id": "SqXOhIHf9N5V",
        "colab_type": "code",
        "colab": {
          "base_uri": "https://localhost:8080/",
          "height": 52
        },
        "outputId": "01646870-5901-4366-cbef-8f6ac0cbc030"
      },
      "source": [
        "def my_print(message=\"my default message\"):\n",
        "    print (message)\n",
        "    \n",
        "my_print(\"hello\") # exibe 'hello'\n",
        "my_print() # exibe 'my default message'"
      ],
      "execution_count": null,
      "outputs": [
        {
          "output_type": "stream",
          "text": [
            "hello\n",
            "my default message\n"
          ],
          "name": "stdout"
        }
      ]
    },
    {
      "cell_type": "markdown",
      "metadata": {
        "id": "GgKiejQV9Zzx",
        "colab_type": "text"
      },
      "source": [
        "Especificando argumentos pelo nome:"
      ]
    },
    {
      "cell_type": "code",
      "metadata": {
        "id": "_9jFkivk8_h8",
        "colab_type": "code",
        "colab": {
          "base_uri": "https://localhost:8080/",
          "height": 69
        },
        "outputId": "f68a5038-a9c1-4e71-d93e-7b5380b44766"
      },
      "source": [
        "def subtract(a=0, b=0):\n",
        "    return a - b\n",
        "\n",
        "print(subtract(10, 5)) # retorna S\n",
        "print(subtract(0, 5)) # retorna -S\n",
        "print(subtract(b=5)) # mesmo que o anterior"
      ],
      "execution_count": null,
      "outputs": [
        {
          "output_type": "stream",
          "text": [
            "5\n",
            "-5\n",
            "-5\n"
          ],
          "name": "stdout"
        }
      ]
    },
    {
      "cell_type": "markdown",
      "metadata": {
        "id": "ZG8Xy0Rj-FWd",
        "colab_type": "text"
      },
      "source": [
        "### Strings (cadeias de caracteres)\n",
        "\n",
        "As **strings** (objetos formados por caracteres, texto) podem ser delimitadas por aspas simples ou duplas (mas elas devem combinar):"
      ]
    },
    {
      "cell_type": "code",
      "metadata": {
        "id": "ptdfMf24-OmD",
        "colab_type": "code",
        "colab": {}
      },
      "source": [
        "single_quoted_string = 'data science'\n",
        "double_quoted_string = \"data science\""
      ],
      "execution_count": null,
      "outputs": []
    },
    {
      "cell_type": "markdown",
      "metadata": {
        "id": "5Cc4xFHh-gkM",
        "colab_type": "text"
      },
      "source": [
        "O Python usa a barra invertida ( \\ )para codificar caracteres especiais. Por exemplo:"
      ]
    },
    {
      "cell_type": "code",
      "metadata": {
        "id": "5ohZyTTg9hpR",
        "colab_type": "code",
        "colab": {
          "base_uri": "https://localhost:8080/",
          "height": 35
        },
        "outputId": "3efe830a-af45-40a6-e9a5-117aef4b3762"
      },
      "source": [
        "tab_string = \"\\t\" # representa o caractere tab\n",
        "len(tab_string) # é 1"
      ],
      "execution_count": null,
      "outputs": [
        {
          "output_type": "execute_result",
          "data": {
            "text/plain": [
              "1"
            ]
          },
          "metadata": {
            "tags": []
          },
          "execution_count": 1
        }
      ]
    },
    {
      "cell_type": "markdown",
      "metadata": {
        "id": "_q3vwc-z-xxS",
        "colab_type": "text"
      },
      "source": [
        "Se você quiser barras invertidas como barras invertidas (que você vê nos nomes dos diretórios ou expressões regulares no Windows), você pode criar uma string bruta usando `r\"\"` :"
      ]
    },
    {
      "cell_type": "code",
      "metadata": {
        "id": "HZ75GNKq-m-7",
        "colab_type": "code",
        "colab": {
          "base_uri": "https://localhost:8080/"
        },
        "outputId": "e9ec21b7-e495-4d5f-f44b-1cd2f62c8df3"
      },
      "source": [
        "not_tab_string = r\"\\t\"  # representa os caracteres '\\' e 't'\n",
        "len(not_tab_string)     # é 2"
      ],
      "execution_count": null,
      "outputs": [
        {
          "output_type": "execute_result",
          "data": {
            "text/plain": [
              "2"
            ]
          },
          "metadata": {
            "tags": []
          },
          "execution_count": 24
        }
      ]
    },
    {
      "cell_type": "markdown",
      "metadata": {
        "id": "rSpHglM1_wd6",
        "colab_type": "text"
      },
      "source": [
        "Também é possível criar strings em múltiplas linhas usando aspas triplas:"
      ]
    },
    {
      "cell_type": "code",
      "metadata": {
        "id": "-e-yJkJmAiXJ",
        "colab_type": "code",
        "colab": {
          "base_uri": "https://localhost:8080/",
          "height": 69
        },
        "outputId": "7aa2c0c9-8811-4464-99a2-6b7bbc46155b"
      },
      "source": [
        "multi_line_string = \"\"\"primeira linha\n",
        "segunda linha\n",
        "terceira linha \"\"\"\n",
        "print(multi_line_string)"
      ],
      "execution_count": null,
      "outputs": [
        {
          "output_type": "stream",
          "text": [
            "primeira linha\n",
            "segunda linha\n",
            "terceira linha \n"
          ],
          "name": "stdout"
        }
      ]
    },
    {
      "cell_type": "markdown",
      "metadata": {
        "id": "6U-sMmb98IHj",
        "colab_type": "text"
      },
      "source": [
        "Um recurso interessante (do Python 3.6 adiante) é a string `f`, que fornece uma maneira simples de substituir valores em strings. Por exemplo, se tivéssemos o nome e o sobrenome dados separadamente:"
      ]
    },
    {
      "cell_type": "code",
      "metadata": {
        "id": "OgAVc4o8Y0CW",
        "colab_type": "code",
        "colab": {}
      },
      "source": [
        "first_name = \"Joel\"\n",
        "last_name = \"Grus\""
      ],
      "execution_count": null,
      "outputs": []
    },
    {
      "cell_type": "code",
      "metadata": {
        "id": "xZ14M0Q5-5N-",
        "colab_type": "code",
        "colab": {
          "base_uri": "https://localhost:8080/",
          "height": 52
        },
        "outputId": "f25436e9-4535-4de8-92f7-635f99a3c2f8"
      },
      "source": [
        "full_name1 = first_name + \" \" + last_name              # string addition\n",
        "print(full_name1)\n",
        "full_name2 = \"{0} {1}\".format(first_name, last_name)   # string.format\n",
        "print(full_name2)"
      ],
      "execution_count": null,
      "outputs": [
        {
          "output_type": "stream",
          "text": [
            "Joel Grus\n",
            "Joel Grus\n"
          ],
          "name": "stdout"
        }
      ]
    },
    {
      "cell_type": "markdown",
      "metadata": {
        "id": "mDbRUzKZZLqJ",
        "colab_type": "text"
      },
      "source": [
        "A string `f` é menos \"pesada\" e a preferida do autor.\n",
        "\n"
      ]
    },
    {
      "cell_type": "code",
      "metadata": {
        "id": "zWjviJ5CY_S7",
        "colab_type": "code",
        "colab": {
          "base_uri": "https://localhost:8080/",
          "height": 35
        },
        "outputId": "54924ae5-0e10-43f7-bd31-555f8c9b5922"
      },
      "source": [
        "full_name3 = f\"{first_name} {last_name}\"\n",
        "print(full_name3)"
      ],
      "execution_count": null,
      "outputs": [
        {
          "output_type": "stream",
          "text": [
            "Joel Grus\n"
          ],
          "name": "stdout"
        }
      ]
    },
    {
      "cell_type": "markdown",
      "metadata": {
        "id": "Pul4ELhUZqVB",
        "colab_type": "text"
      },
      "source": [
        "### Exceções\n",
        "\n",
        "Quando algo dá errado, o Python exibe uma **exceção**. Se não forem tratadas, as exceções causarão falha no programa. Você pode lidar com elas usando `try` e `except`:"
      ]
    },
    {
      "cell_type": "code",
      "metadata": {
        "id": "OYVS6lpeZ_Rv",
        "colab_type": "code",
        "colab": {
          "base_uri": "https://localhost:8080/",
          "height": 35
        },
        "outputId": "b81dbb69-11b9-4c7b-d92e-b0bb2e37c19b"
      },
      "source": [
        "try: \n",
        "  print(0 / 0) \n",
        "except ZeroDivisionError:\n",
        "  print(\"cannot divide by zero\")\n"
      ],
      "execution_count": null,
      "outputs": [
        {
          "output_type": "stream",
          "text": [
            "cannot divide by zero\n"
          ],
          "name": "stdout"
        }
      ]
    },
    {
      "cell_type": "markdown",
      "metadata": {
        "id": "ZT1MbzntaSY5",
        "colab_type": "text"
      },
      "source": [
        "Em muitas línguas as exceções sejam consideradas ruins, no Python não há vergonha em usá-las para tornar seu código mais limpo."
      ]
    },
    {
      "cell_type": "markdown",
      "metadata": {
        "id": "N5UHUyUaabWL",
        "colab_type": "text"
      },
      "source": [
        "### Listas (`list`)\n",
        "\n",
        "Provavelmente, a estrutura de dados mais básica em Python é a `list` . Uma lista é apenas uma coleção ordenada. (É parecida com o array das outras linguagens, mas com algumas funcionalidades a mais.)"
      ]
    },
    {
      "cell_type": "code",
      "metadata": {
        "id": "QCOFFZCDBaoz",
        "colab_type": "code",
        "colab": {}
      },
      "source": [
        "integer_list = [1, 2, 3]                                   # lista de números inteiros\n",
        "heterogeneous_list = [\"string\", 0.1, True]                 # lista com uma string, um float (número decimal) e um booleano\n",
        "list_of_lists = [ integer_list, heterogeneous_list, [] ]   # lista de listas\n",
        "list_length = len(integer_list) # é igual a 3              # comprimento (n. de elementos) da lista\n",
        "list_sum = sum(integer_list) # é igual a 6                 # soma dos elementos da lista"
      ],
      "execution_count": null,
      "outputs": []
    },
    {
      "cell_type": "markdown",
      "metadata": {
        "id": "uPHyUvppDwWQ",
        "colab_type": "text"
      },
      "source": [
        "Note que aqui foram utilizadas as funções `range( )` e a `list ( )` para gerar uma lista [0, 1, ..., 9].\n",
        "De modo geral, a função `range` possui um *start*, um *stop* e um *step*. Quando declarado apenas o *stop*, cria-se uma sequência de zero até o predecessor do *stop*. As listas são indexadas a partir de zero, então com *stop = 10* é gerada uma lista [0, 1, ..., 9]."
      ]
    },
    {
      "cell_type": "code",
      "metadata": {
        "id": "CHRt7ogvEn6w",
        "colab_type": "code",
        "colab": {
          "base_uri": "https://localhost:8080/",
          "height": 35
        },
        "outputId": "0ced7b4f-03b3-43a4-a322-ccae1a457b29"
      },
      "source": [
        "x = list(range(10))        # utiliza a função \n",
        "print(x)"
      ],
      "execution_count": null,
      "outputs": [
        {
          "output_type": "stream",
          "text": [
            "[0, 1, 2, 3, 4, 5, 6, 7, 8, 9]\n"
          ],
          "name": "stdout"
        }
      ]
    },
    {
      "cell_type": "markdown",
      "metadata": {
        "id": "dGs80iAZBy5P",
        "colab_type": "text"
      },
      "source": [
        "Você pode exibir ou configurar o *n-ésimo* elemento de uma lista com colchetes:"
      ]
    },
    {
      "cell_type": "code",
      "metadata": {
        "id": "2BD57x2UZez0",
        "colab_type": "code",
        "colab": {
          "base_uri": "https://localhost:8080/",
          "height": 104
        },
        "outputId": "dc8c4a28-edb4-48da-df37-727ae42906ba"
      },
      "source": [
        "zero = x[0]                # elemento indexado por 0, como as listas são indexadas a partir de 0, é o primeiro elemento\n",
        "print(zero)\n",
        "one = x[1]                 # elemento indexado por 1\n",
        "print(one)\n",
        "nine = x[-1]               # 'Pythonic' para o último elemento da lista\n",
        "print(nine)\n",
        "eight = x[-2]              # 'Pythonic' para o penúltimo elemento da lista\n",
        "print(eight)"
      ],
      "execution_count": null,
      "outputs": [
        {
          "output_type": "stream",
          "text": [
            "0\n",
            "1\n",
            "9\n",
            "8\n",
            "[-1, 1, 2, 3, 4, 5, 6, 7, 8, 9]\n"
          ],
          "name": "stdout"
        }
      ]
    },
    {
      "cell_type": "markdown",
      "metadata": {
        "id": "ukgKTdrrG-zy",
        "colab_type": "text"
      },
      "source": [
        "As listas são editáveis. Podemos alterar elementos da seguinte forma:"
      ]
    },
    {
      "cell_type": "code",
      "metadata": {
        "id": "em6bq2Z5HA2H",
        "colab_type": "code",
        "colab": {
          "base_uri": "https://localhost:8080/",
          "height": 35
        },
        "outputId": "e866b690-ea90-4adb-cb67-19418c6444f2"
      },
      "source": [
        "x[0] = -1                  #  agora x é [-1, 1, 2, 3, ..., 9]\n",
        "print(x)"
      ],
      "execution_count": null,
      "outputs": [
        {
          "output_type": "stream",
          "text": [
            "[-1, 1, 2, 3, 4, 5, 6, 7, 8, 9]\n"
          ],
          "name": "stdout"
        }
      ]
    },
    {
      "cell_type": "markdown",
      "metadata": {
        "id": "0wFlQyz5Ha2_",
        "colab_type": "text"
      },
      "source": [
        "Você também pode usar os colchetes para \"fatiar\" as listas:"
      ]
    },
    {
      "cell_type": "code",
      "metadata": {
        "id": "ZD5J6-0PBjsn",
        "colab_type": "code",
        "colab": {
          "base_uri": "https://localhost:8080/",
          "height": 121
        },
        "outputId": "2e649ed5-6b52-49f8-ca2e-071b44100bd2"
      },
      "source": [
        "first_three = x[:3]                   # elemento de índice zero até o elemento indexado por 2 (o 3 é excluído)\n",
        "print(first_three)\n",
        "three_to_end = x[3:]                  # elemento de índice três até o último\n",
        "print(three_to_end)\n",
        "one_to_four = x[1:5]                  # elementos de índice de 1 à 4\n",
        "print(one_to_four)\n",
        "last_three = x[-3:]                   # os três últimos elementos\n",
        "print(last_three)\n",
        "without_first_and_last = x[1:-1];     # omite o primeiro (índice zero) e o último elemento\n",
        "print(without_first_and_last)\n",
        "copy_of_x = x[:]                      # todos os elementos da lista\n",
        "print(copy_of_x)"
      ],
      "execution_count": null,
      "outputs": [
        {
          "output_type": "stream",
          "text": [
            "[-1, 1, 2]\n",
            "[3, 4, 5, 6, 7, 8, 9]\n",
            "[1, 2, 3, 4]\n",
            "[7, 8, 9]\n",
            "[1, 2, 3, 4, 5, 6, 7, 8]\n",
            "[-1, 1, 2, 3, 4, 5, 6, 7, 8, 9]\n"
          ],
          "name": "stdout"
        }
      ]
    },
    {
      "cell_type": "markdown",
      "metadata": {
        "id": "wBiR9ZW7Kzvj",
        "colab_type": "text"
      },
      "source": [
        "O Python possui o operador `in` para verificar a associação à lista.\n",
        "Se o item consultado estiver na lista ele retorna TRUE. Caso contrário, retorna FALSE."
      ]
    },
    {
      "cell_type": "code",
      "metadata": {
        "id": "XM4YbVs1Hkn7",
        "colab_type": "code",
        "colab": {
          "base_uri": "https://localhost:8080/",
          "height": 52
        },
        "outputId": "11c97517-56e1-4edb-bd26-fcb050034924"
      },
      "source": [
        "print(1 in [1, 2, 3])\n",
        "print(0 in [1, 2, 3])"
      ],
      "execution_count": null,
      "outputs": [
        {
          "output_type": "stream",
          "text": [
            "True\n",
            "False\n"
          ],
          "name": "stdout"
        }
      ]
    },
    {
      "cell_type": "markdown",
      "metadata": {
        "id": "A5nTg1i9LGrz",
        "colab_type": "text"
      },
      "source": [
        "Essa verificação envolve examinar os elementos de uma lista um de cada vez, o que significa que você provavelmente não deveria usá-la a menos que você saiba que sua lista é pequena (ou a menos que você não se importe em quanto tempo a verificação durará).\n",
        "\n",
        "É fácil concatenar as listas juntas:"
      ]
    },
    {
      "cell_type": "code",
      "metadata": {
        "id": "FfFJUgEGLP4R",
        "colab_type": "code",
        "colab": {
          "base_uri": "https://localhost:8080/",
          "height": 35
        },
        "outputId": "6458ee3b-9225-4ce0-f3e5-8b87def07aac"
      },
      "source": [
        "x = [1, 2, 3]\n",
        "x.extend([4, 5, 6]) # x agora é [1,2,3,4,5,6]\n",
        "x"
      ],
      "execution_count": null,
      "outputs": [
        {
          "output_type": "execute_result",
          "data": {
            "text/plain": [
              "[1, 2, 3, 4, 5, 6]"
            ]
          },
          "metadata": {
            "tags": []
          },
          "execution_count": 14
        }
      ]
    },
    {
      "cell_type": "markdown",
      "metadata": {
        "id": "r_QckV8cLY14",
        "colab_type": "text"
      },
      "source": [
        "Se você não quiser modificar x você pode usar uma adição na lista:"
      ]
    },
    {
      "cell_type": "code",
      "metadata": {
        "id": "1LpkeD9QLSXg",
        "colab_type": "code",
        "colab": {
          "base_uri": "https://localhost:8080/",
          "height": 52
        },
        "outputId": "54d070f8-ead4-43f0-ae29-2c30cdf82973"
      },
      "source": [
        "x = [1, 2, 3]\n",
        "y = x + [4, 5, 6] # y é[1, 2, 3, 4, 5, 6]; x não mudou\n",
        "print(x)\n",
        "print(y)"
      ],
      "execution_count": null,
      "outputs": [
        {
          "output_type": "stream",
          "text": [
            "[1, 2, 3]\n",
            "[1, 2, 3, 4, 5, 6]\n"
          ],
          "name": "stdout"
        }
      ]
    },
    {
      "cell_type": "markdown",
      "metadata": {
        "id": "uiy0xCNTLejL",
        "colab_type": "text"
      },
      "source": [
        "Com mais frequência, anexaremos um item de cada vez nas listas:"
      ]
    },
    {
      "cell_type": "code",
      "metadata": {
        "id": "-L57OaMmLbXE",
        "colab_type": "code",
        "colab": {
          "base_uri": "https://localhost:8080/",
          "height": 69
        },
        "outputId": "c62269c2-fab1-4624-9c0b-6cc1b6d4f2cc"
      },
      "source": [
        "x = [1, 2, 3] \n",
        "x.append(0) # x agora é [1, 2, 3, 0]\n",
        "y = x[-1] # é igual a 0\n",
        "z = len(x) # é igual a 4\n",
        "\n",
        "print(x)\n",
        "print(y)\n",
        "print(z)"
      ],
      "execution_count": null,
      "outputs": [
        {
          "output_type": "stream",
          "text": [
            "[1, 2, 3, 0]\n",
            "0\n",
            "4\n"
          ],
          "name": "stdout"
        }
      ]
    },
    {
      "cell_type": "markdown",
      "metadata": {
        "id": "JJz0JcvXLk01",
        "colab_type": "text"
      },
      "source": [
        "Às vezes é conveniente desfazer as listas se você sabe quantos elementos elas possuem:"
      ]
    },
    {
      "cell_type": "code",
      "metadata": {
        "id": "WJ5wkEiqLhuj",
        "colab_type": "code",
        "colab": {}
      },
      "source": [
        "x, y = [1, 2] # agora x é 1, y é 2"
      ],
      "execution_count": null,
      "outputs": []
    },
    {
      "cell_type": "markdown",
      "metadata": {
        "id": "cAJ-DMFtLqg_",
        "colab_type": "text"
      },
      "source": [
        "\n",
        "apesar de que você receberá um ValueError se não tiver os mesmos números de elementos dos dois lados.\n",
        "\n",
        "É comum usar um sublinhado para um valor que você descartará:"
      ]
    },
    {
      "cell_type": "code",
      "metadata": {
        "id": "-6WILX3JLnCE",
        "colab_type": "code",
        "colab": {}
      },
      "source": [
        "_, y = [1, 2] # agora y == 2, não se preocupou com o primeiro elemento."
      ],
      "execution_count": null,
      "outputs": []
    },
    {
      "cell_type": "markdown",
      "metadata": {
        "id": "VdayYMo0L5Gg",
        "colab_type": "text"
      },
      "source": [
        "### Tuplas\n",
        "\n",
        "São as primas imutáveis das listas. Quase tudo que você pode fazer com uma lista, que não envolva modificá-la, é possível ser feito em uma tupla. Você especifica uma tupla ao usar parênteses (ou nada) em vez de colchetes:"
      ]
    },
    {
      "cell_type": "code",
      "metadata": {
        "id": "FNGHq8qFLyFh",
        "colab_type": "code",
        "colab": {
          "base_uri": "https://localhost:8080/",
          "height": 104
        },
        "outputId": "b4b9dbd4-dbd1-4ffc-e7d4-ee9408df71c2"
      },
      "source": [
        "my_list = [1, 2]\n",
        "print(my_list)\n",
        "my_tuple = (1, 2)\n",
        "print(my_tuple)\n",
        "other_tuple = 3, 4\n",
        "print(other_tuple)\n",
        "my_list[1] = 3 # my_list agora é [1, 3]\n",
        "print(my_list)\n",
        "\n",
        "try:\n",
        "    my_tuple[1] = 3\n",
        "except TypeError:\n",
        "    print (\"cannot modify a tuple\")"
      ],
      "execution_count": null,
      "outputs": [
        {
          "output_type": "stream",
          "text": [
            "[1, 2]\n",
            "(1, 2)\n",
            "(3, 4)\n",
            "[1, 3]\n",
            "cannot modify a tuple\n"
          ],
          "name": "stdout"
        }
      ]
    },
    {
      "cell_type": "markdown",
      "metadata": {
        "id": "mt_yIn5KMI98",
        "colab_type": "text"
      },
      "source": [
        "As tuplas são uma maneira eficaz de retornar múltiplos valores a partir das funções:"
      ]
    },
    {
      "cell_type": "code",
      "metadata": {
        "id": "J7TLDCoWMC2_",
        "colab_type": "code",
        "colab": {
          "base_uri": "https://localhost:8080/",
          "height": 52
        },
        "outputId": "e18511be-539f-4cfe-d19e-433a11f2f37e"
      },
      "source": [
        "def sum_and_product(x, y):\n",
        "    return (x + y),(x * y)\n",
        "\n",
        "sp = sum_and_product(2, 3) # é igual (5, 6)\n",
        "print(sp)\n",
        "s, p = sum_and_product(5, 10) # s é 15, p é 50\n",
        "print(s, p)"
      ],
      "execution_count": null,
      "outputs": [
        {
          "output_type": "stream",
          "text": [
            "(5, 6)\n",
            "15 50\n"
          ],
          "name": "stdout"
        }
      ]
    },
    {
      "cell_type": "markdown",
      "metadata": {
        "id": "H-Y-kIsMNrie",
        "colab_type": "text"
      },
      "source": [
        "As tuplas (e listas) também podem ser usadas para atribuições múltiplas:"
      ]
    },
    {
      "cell_type": "code",
      "metadata": {
        "id": "FfvfH1pDNqJc",
        "colab_type": "code",
        "colab": {
          "base_uri": "https://localhost:8080/",
          "height": 52
        },
        "outputId": "f2c73e04-90e8-4fb2-d97f-d122b3ff0ccd"
      },
      "source": [
        "x, y = 1, 2 # agora x é 1, y é 2\n",
        "print(x,y)\n",
        "x, y = y, x # modo Pythonic de trocar as variáveis; agora x é 2, y é 1\n",
        "print(x,y)"
      ],
      "execution_count": null,
      "outputs": [
        {
          "output_type": "stream",
          "text": [
            "1 2\n",
            "2 1\n"
          ],
          "name": "stdout"
        }
      ]
    },
    {
      "cell_type": "markdown",
      "metadata": {
        "id": "Pl7ba7khNxBh",
        "colab_type": "text"
      },
      "source": [
        "### Dicionários\n",
        "\n",
        "Outra estrutura fundamental é um dicionário, que associa valores com chaves e permite que você recupere o valor correspondente de uma dada chave rapidamente:"
      ]
    },
    {
      "cell_type": "code",
      "metadata": {
        "id": "d1ME3jQMNvC0",
        "colab_type": "code",
        "colab": {}
      },
      "source": [
        "empty_dict = {} # Pythonic\n",
        "empty_dict2 = dict(); # menos Pythonic\n",
        "grades = { \"Joel\" : 80, \"Tim\" : 95 } # dicionário literal"
      ],
      "execution_count": null,
      "outputs": []
    },
    {
      "cell_type": "markdown",
      "metadata": {
        "id": "viG0ChgdODGe",
        "colab_type": "text"
      },
      "source": [
        "Você pode procurar o valor para uma chave usando colchetes:"
      ]
    },
    {
      "cell_type": "code",
      "metadata": {
        "id": "NBxNFQMSOA4V",
        "colab_type": "code",
        "colab": {}
      },
      "source": [
        "joels_grade = grades[\"Joel\"] # é igual a 80"
      ],
      "execution_count": null,
      "outputs": []
    },
    {
      "cell_type": "markdown",
      "metadata": {
        "id": "In8WHPr1OJ9w",
        "colab_type": "text"
      },
      "source": [
        "Mas você receberá um keyError se perguntar por uma chave que não esteja no dicionário:"
      ]
    },
    {
      "cell_type": "code",
      "metadata": {
        "id": "CAVnInSOOH9E",
        "colab_type": "code",
        "colab": {
          "base_uri": "https://localhost:8080/",
          "height": 35
        },
        "outputId": "d49a363c-6cac-40ff-91ce-b47b8b249305"
      },
      "source": [
        "try:\n",
        "    kates_grade = grades[\"Kate\"]\n",
        "except KeyError:\n",
        "    print (\"no grade for Kate!\")"
      ],
      "execution_count": null,
      "outputs": [
        {
          "output_type": "stream",
          "text": [
            "no grade for Kate!\n"
          ],
          "name": "stdout"
        }
      ]
    },
    {
      "cell_type": "markdown",
      "metadata": {
        "id": "xImnJPbDOOx_",
        "colab_type": "text"
      },
      "source": [
        "Você pode verificar a existência de uma chave usando in :"
      ]
    },
    {
      "cell_type": "code",
      "metadata": {
        "id": "0Uz_PvaxOL5-",
        "colab_type": "code",
        "colab": {}
      },
      "source": [
        "joel_has_grade = \"Joel\" in grades # Verdadeiro\n",
        "kate_has_grade = \"Kate\" in grades # Falso"
      ],
      "execution_count": null,
      "outputs": []
    },
    {
      "cell_type": "markdown",
      "metadata": {
        "id": "8XJlE6kfOU2R",
        "colab_type": "text"
      },
      "source": [
        "Os dicionários possuem o método get que retorna um valor padrão (em vez de levantar uma exceção) quando você procura por uma chave que não esteja no dicionário:"
      ]
    },
    {
      "cell_type": "code",
      "metadata": {
        "id": "-vKRx45FOTeM",
        "colab_type": "code",
        "colab": {}
      },
      "source": [
        "joels_grade = grades.get(\"Joel\", 0) # é igual a 80\n",
        "kates_grade = grades.get(\"Kate\", 0) # é igual a 0\n",
        "no_ones_grade = grades.get(\"No One\") # padrão para padrão é None"
      ],
      "execution_count": null,
      "outputs": []
    },
    {
      "cell_type": "markdown",
      "metadata": {
        "id": "v4BkX4K4Oecx",
        "colab_type": "text"
      },
      "source": [
        "Você atribui pares de valores-chave usando os mesmos colchetes:"
      ]
    },
    {
      "cell_type": "code",
      "metadata": {
        "id": "NqK83FDxOa1Y",
        "colab_type": "code",
        "colab": {}
      },
      "source": [
        "grades[\"Tim\"] = 99 # substitui o valor antigo\n",
        "grades[\"Kate\"] = 100 # adiciona uma terceira entrada\n",
        "num_students = len(grades) # é igual a 3"
      ],
      "execution_count": null,
      "outputs": []
    },
    {
      "cell_type": "markdown",
      "metadata": {
        "id": "BBwfJQEuOjy5",
        "colab_type": "text"
      },
      "source": [
        "Frequentemente usaremos dicionários como uma simples maneira de representar dados estruturados:"
      ]
    },
    {
      "cell_type": "code",
      "metadata": {
        "id": "3jrV7DZVOhmy",
        "colab_type": "code",
        "colab": {}
      },
      "source": [
        "tweet = {\n",
        "    \"user\" : \"joelgrus\",\n",
        "    \"text\" : \"Data Science is Awesome\",\n",
        "    \"retweet_count\" : 100,\n",
        "    \"hashtags\" : [\"#data\", \"#science\", \"#datascience\", \"#awesome\", \"#yolo\"]\n",
        "}"
      ],
      "execution_count": null,
      "outputs": []
    },
    {
      "cell_type": "markdown",
      "metadata": {
        "id": "EvN5AEtWOo1S",
        "colab_type": "text"
      },
      "source": [
        "Além de procurar por chaves específicas, podemos olhar para todas elas:"
      ]
    },
    {
      "cell_type": "code",
      "metadata": {
        "id": "8tzYYICWOlvb",
        "colab_type": "code",
        "colab": {
          "base_uri": "https://localhost:8080/",
          "height": 35
        },
        "outputId": "3d81fa47-61be-4726-a6d5-5f5da74a2a85"
      },
      "source": [
        "tweet_keys = tweet.keys() # lista de chaves\n",
        "tweet_values = tweet.values() # lista de valores-chave\n",
        "tweet_items = tweet.items() # lista de (chave, valor) tuplas\n",
        "\n",
        "\"user\" in tweet_keys # Verdadeiro, mas usa list in, mais lento\n",
        "\"user\" in tweet # mais Pythonic, usa dict in, mais rápido\n",
        "\"joelgrus\" in tweet_values # Verdadeiro"
      ],
      "execution_count": null,
      "outputs": [
        {
          "output_type": "execute_result",
          "data": {
            "text/plain": [
              "True"
            ]
          },
          "metadata": {
            "tags": []
          },
          "execution_count": 31
        }
      ]
    },
    {
      "cell_type": "markdown",
      "metadata": {
        "id": "yOVMreq7Owyd",
        "colab_type": "text"
      },
      "source": [
        "As chaves dos dicionários devem ser imutáveis; particularmente, você não pode usar lists como chaves. Se você precisar de uma chave multipart, você deveria usar uma tuple ou descobrir uma forma de transformar uma chave em uma string."
      ]
    },
    {
      "cell_type": "markdown",
      "metadata": {
        "id": "d4-uHt55O2Ch",
        "colab_type": "text"
      },
      "source": [
        "**defaultdict**\n",
        "\n",
        "Imagine que você esteja tentando contar as palavras em um documento. Um método claro é criar um dicionário no qual as chaves são palavras e os valores são contagens. Conforme você vai verificando cada palavra, você pode incrementar sua contagem se ela já estiver no dicionário e adicioná-la no dicionário se não estiver:"
      ]
    },
    {
      "cell_type": "code",
      "metadata": {
        "id": "stElFMLZO7bZ",
        "colab_type": "code",
        "colab": {
          "base_uri": "https://localhost:8080/",
          "height": 235
        },
        "outputId": "ec343b8f-eafb-45cd-dcb2-ef99854e1d14"
      },
      "source": [
        "word_counts = {}\n",
        "for word in document:\n",
        "    if word in word_counts:\n",
        "        word_counts[word] += 1\n",
        "    else:\n",
        "        word_counts[word] = 1"
      ],
      "execution_count": null,
      "outputs": [
        {
          "output_type": "error",
          "ename": "NameError",
          "evalue": "ignored",
          "traceback": [
            "\u001b[0;31m---------------------------------------------------------------------------\u001b[0m",
            "\u001b[0;31mNameError\u001b[0m                                 Traceback (most recent call last)",
            "\u001b[0;32m<ipython-input-32-ffdb8a3bfceb>\u001b[0m in \u001b[0;36m<module>\u001b[0;34m()\u001b[0m\n\u001b[1;32m      1\u001b[0m \u001b[0mword_counts\u001b[0m \u001b[0;34m=\u001b[0m \u001b[0;34m{\u001b[0m\u001b[0;34m}\u001b[0m\u001b[0;34m\u001b[0m\u001b[0;34m\u001b[0m\u001b[0m\n\u001b[0;32m----> 2\u001b[0;31m \u001b[0;32mfor\u001b[0m \u001b[0mword\u001b[0m \u001b[0;32min\u001b[0m \u001b[0mdocument\u001b[0m\u001b[0;34m:\u001b[0m\u001b[0;34m\u001b[0m\u001b[0;34m\u001b[0m\u001b[0m\n\u001b[0m\u001b[1;32m      3\u001b[0m     \u001b[0;32mif\u001b[0m \u001b[0mword\u001b[0m \u001b[0;32min\u001b[0m \u001b[0mword_counts\u001b[0m\u001b[0;34m:\u001b[0m\u001b[0;34m\u001b[0m\u001b[0;34m\u001b[0m\u001b[0m\n\u001b[1;32m      4\u001b[0m         \u001b[0mword_counts\u001b[0m\u001b[0;34m[\u001b[0m\u001b[0mword\u001b[0m\u001b[0;34m]\u001b[0m \u001b[0;34m+=\u001b[0m \u001b[0;36m1\u001b[0m\u001b[0;34m\u001b[0m\u001b[0;34m\u001b[0m\u001b[0m\n\u001b[1;32m      5\u001b[0m     \u001b[0;32melse\u001b[0m\u001b[0;34m:\u001b[0m\u001b[0;34m\u001b[0m\u001b[0;34m\u001b[0m\u001b[0m\n",
            "\u001b[0;31mNameError\u001b[0m: name 'document' is not defined"
          ]
        }
      ]
    },
    {
      "cell_type": "markdown",
      "metadata": {
        "id": "58jkvefBO96a",
        "colab_type": "text"
      },
      "source": [
        "Você também poderia usar o método “perdão é melhor do que permissão” e apenas manipular a exceção a partir da tentativa de procurar pela chave perdida:"
      ]
    },
    {
      "cell_type": "code",
      "metadata": {
        "id": "a_60rAx1Orgg",
        "colab_type": "code",
        "colab": {
          "base_uri": "https://localhost:8080/",
          "height": 235
        },
        "outputId": "8de9893d-b0ee-42c9-c08b-a217aacfaf10"
      },
      "source": [
        "word_counts = {}\n",
        "for word in document:\n",
        "    try:\n",
        "        word_counts[word] += 1\n",
        "    except KeyError:\n",
        "        word_counts[word] = 1"
      ],
      "execution_count": null,
      "outputs": [
        {
          "output_type": "error",
          "ename": "NameError",
          "evalue": "ignored",
          "traceback": [
            "\u001b[0;31m---------------------------------------------------------------------------\u001b[0m",
            "\u001b[0;31mNameError\u001b[0m                                 Traceback (most recent call last)",
            "\u001b[0;32m<ipython-input-33-8196623062e5>\u001b[0m in \u001b[0;36m<module>\u001b[0;34m()\u001b[0m\n\u001b[1;32m      1\u001b[0m \u001b[0mword_counts\u001b[0m \u001b[0;34m=\u001b[0m \u001b[0;34m{\u001b[0m\u001b[0;34m}\u001b[0m\u001b[0;34m\u001b[0m\u001b[0;34m\u001b[0m\u001b[0m\n\u001b[0;32m----> 2\u001b[0;31m \u001b[0;32mfor\u001b[0m \u001b[0mword\u001b[0m \u001b[0;32min\u001b[0m \u001b[0mdocument\u001b[0m\u001b[0;34m:\u001b[0m\u001b[0;34m\u001b[0m\u001b[0;34m\u001b[0m\u001b[0m\n\u001b[0m\u001b[1;32m      3\u001b[0m     \u001b[0;32mtry\u001b[0m\u001b[0;34m:\u001b[0m\u001b[0;34m\u001b[0m\u001b[0;34m\u001b[0m\u001b[0m\n\u001b[1;32m      4\u001b[0m         \u001b[0mword_counts\u001b[0m\u001b[0;34m[\u001b[0m\u001b[0mword\u001b[0m\u001b[0;34m]\u001b[0m \u001b[0;34m+=\u001b[0m \u001b[0;36m1\u001b[0m\u001b[0;34m\u001b[0m\u001b[0;34m\u001b[0m\u001b[0m\n\u001b[1;32m      5\u001b[0m     \u001b[0;32mexcept\u001b[0m \u001b[0mKeyError\u001b[0m\u001b[0;34m:\u001b[0m\u001b[0;34m\u001b[0m\u001b[0;34m\u001b[0m\u001b[0m\n",
            "\u001b[0;31mNameError\u001b[0m: name 'document' is not defined"
          ]
        }
      ]
    },
    {
      "cell_type": "markdown",
      "metadata": {
        "id": "CIlKHVqoPCvH",
        "colab_type": "text"
      },
      "source": [
        "Tudo isso é levemente complicado, por isso o defaultdict é útil. Um defaultdict é como um dicionário comum, exceto que, quando você tenta procurar por uma chave que ele não possui, ele primeiro adiciona um valor para ela usando a função de argumento zero que você forneceu ao criá-lo. Para usar defaultdicts, você tem que importá-los das collections:"
      ]
    },
    {
      "cell_type": "code",
      "metadata": {
        "id": "rzjCNXVsPAT3",
        "colab_type": "code",
        "colab": {
          "base_uri": "https://localhost:8080/",
          "height": 218
        },
        "outputId": "ce943033-e7db-43ec-d780-aaef3e89a993"
      },
      "source": [
        "from collections import defaultdict\n",
        "\n",
        "word_counts = defaultdict(int) # int produz 0\n",
        "for word in document:\n",
        "    word_counts[word] += 1"
      ],
      "execution_count": null,
      "outputs": [
        {
          "output_type": "error",
          "ename": "NameError",
          "evalue": "ignored",
          "traceback": [
            "\u001b[0;31m---------------------------------------------------------------------------\u001b[0m",
            "\u001b[0;31mNameError\u001b[0m                                 Traceback (most recent call last)",
            "\u001b[0;32m<ipython-input-34-c1fa2e24528d>\u001b[0m in \u001b[0;36m<module>\u001b[0;34m()\u001b[0m\n\u001b[1;32m      2\u001b[0m \u001b[0;34m\u001b[0m\u001b[0m\n\u001b[1;32m      3\u001b[0m \u001b[0mword_counts\u001b[0m \u001b[0;34m=\u001b[0m \u001b[0mdefaultdict\u001b[0m\u001b[0;34m(\u001b[0m\u001b[0mint\u001b[0m\u001b[0;34m)\u001b[0m \u001b[0;31m# int produz 0\u001b[0m\u001b[0;34m\u001b[0m\u001b[0;34m\u001b[0m\u001b[0m\n\u001b[0;32m----> 4\u001b[0;31m \u001b[0;32mfor\u001b[0m \u001b[0mword\u001b[0m \u001b[0;32min\u001b[0m \u001b[0mdocument\u001b[0m\u001b[0;34m:\u001b[0m\u001b[0;34m\u001b[0m\u001b[0;34m\u001b[0m\u001b[0m\n\u001b[0m\u001b[1;32m      5\u001b[0m     \u001b[0mword_counts\u001b[0m\u001b[0;34m[\u001b[0m\u001b[0mword\u001b[0m\u001b[0;34m]\u001b[0m \u001b[0;34m+=\u001b[0m \u001b[0;36m1\u001b[0m\u001b[0;34m\u001b[0m\u001b[0;34m\u001b[0m\u001b[0m\n",
            "\u001b[0;31mNameError\u001b[0m: name 'document' is not defined"
          ]
        }
      ]
    },
    {
      "cell_type": "markdown",
      "metadata": {
        "id": "FJ-0K6JLPBvD",
        "colab_type": "text"
      },
      "source": [
        "Eles também podem ser úteis com list ou dict ou até mesmo com suas próprias funções:"
      ]
    },
    {
      "cell_type": "code",
      "metadata": {
        "id": "yiYtxyq-PJgV",
        "colab_type": "code",
        "colab": {}
      },
      "source": [
        "dd_list = defaultdict(list) # list() produz uma lista vazia\n",
        "dd_list[2].append(1) # agora dd_list contém {2: [1]}\n",
        "\n",
        "dd_dict = defaultdict(dict) # dict() produz um dict vazio\n",
        "dd_dict[\"Joel\"][\"City\"] = \"Seattle\" # { \"Joel\" : { \"City\" : Seattle\"}}\n",
        "\n",
        "dd_pair = defaultdict(lambda: [0, 0])\n",
        "dd_pair[2][1] = 1 # agora dd_pair contêm {2: [0,1]}"
      ],
      "execution_count": null,
      "outputs": []
    },
    {
      "cell_type": "markdown",
      "metadata": {
        "id": "cbMRf1gIPMVo",
        "colab_type": "text"
      },
      "source": [
        "Isso será útil quando você usar dicionários para “coletar” resultados por algumachave e não quiser verificar toda vez para ver se ela ainda existe."
      ]
    },
    {
      "cell_type": "markdown",
      "metadata": {
        "id": "ETSXBQEGPO92",
        "colab_type": "text"
      },
      "source": [
        "**Contador**\n",
        "\n",
        "Um Counter (contador) transforma uma sequência de valores em algo parecido com o objeto defaultdict(int) mapeando as chaves para as contagens. Primeiramente, o usaremos para criar histogramas:"
      ]
    },
    {
      "cell_type": "code",
      "metadata": {
        "id": "oFhd7ceAPLkj",
        "colab_type": "code",
        "colab": {}
      },
      "source": [
        "from collections import Counter\n",
        "c = Counter([0, 1, 2, 0]) # c é (basicamente) { 0 : 2, 1 : 1, 2 : 1 }"
      ],
      "execution_count": null,
      "outputs": []
    },
    {
      "cell_type": "markdown",
      "metadata": {
        "id": "-QlKmZ2FPXCz",
        "colab_type": "text"
      },
      "source": [
        "Isso nos mostra uma forma simples de resolver nosso problema de word_counts:"
      ]
    },
    {
      "cell_type": "code",
      "metadata": {
        "id": "7r7P3RW3PUcD",
        "colab_type": "code",
        "colab": {
          "base_uri": "https://localhost:8080/",
          "height": 166
        },
        "outputId": "0187ef76-6d02-4758-e6e4-8dcd271e3805"
      },
      "source": [
        "word_counts = Counter(document)"
      ],
      "execution_count": null,
      "outputs": [
        {
          "output_type": "error",
          "ename": "NameError",
          "evalue": "ignored",
          "traceback": [
            "\u001b[0;31m---------------------------------------------------------------------------\u001b[0m",
            "\u001b[0;31mNameError\u001b[0m                                 Traceback (most recent call last)",
            "\u001b[0;32m<ipython-input-37-42dc83845fb5>\u001b[0m in \u001b[0;36m<module>\u001b[0;34m()\u001b[0m\n\u001b[0;32m----> 1\u001b[0;31m \u001b[0mword_counts\u001b[0m \u001b[0;34m=\u001b[0m \u001b[0mCounter\u001b[0m\u001b[0;34m(\u001b[0m\u001b[0mdocument\u001b[0m\u001b[0;34m)\u001b[0m\u001b[0;34m\u001b[0m\u001b[0;34m\u001b[0m\u001b[0m\n\u001b[0m",
            "\u001b[0;31mNameError\u001b[0m: name 'document' is not defined"
          ]
        }
      ]
    },
    {
      "cell_type": "markdown",
      "metadata": {
        "id": "5j-7w35JPZrI",
        "colab_type": "text"
      },
      "source": [
        "Uma instância Counter possui um método most_common que é frequentemente útil:"
      ]
    },
    {
      "cell_type": "code",
      "metadata": {
        "id": "o7vWkDjvPY5c",
        "colab_type": "code",
        "colab": {
          "base_uri": "https://localhost:8080/",
          "height": 201
        },
        "outputId": "d8555b15-8a2e-4332-9fa4-5a1093c2bb67"
      },
      "source": [
        "# imprime as dez palavas mais comuns e suas contas\n",
        "for word, count in word_counts.most_common(10):\n",
        "    print (word, count)"
      ],
      "execution_count": null,
      "outputs": [
        {
          "output_type": "error",
          "ename": "AttributeError",
          "evalue": "ignored",
          "traceback": [
            "\u001b[0;31m---------------------------------------------------------------------------\u001b[0m",
            "\u001b[0;31mAttributeError\u001b[0m                            Traceback (most recent call last)",
            "\u001b[0;32m<ipython-input-38-137d3540e8ce>\u001b[0m in \u001b[0;36m<module>\u001b[0;34m()\u001b[0m\n\u001b[1;32m      1\u001b[0m \u001b[0;31m# imprime as dez palavas mais comuns e suas contas\u001b[0m\u001b[0;34m\u001b[0m\u001b[0;34m\u001b[0m\u001b[0;34m\u001b[0m\u001b[0m\n\u001b[0;32m----> 2\u001b[0;31m \u001b[0;32mfor\u001b[0m \u001b[0mword\u001b[0m\u001b[0;34m,\u001b[0m \u001b[0mcount\u001b[0m \u001b[0;32min\u001b[0m \u001b[0mword_counts\u001b[0m\u001b[0;34m.\u001b[0m\u001b[0mmost_common\u001b[0m\u001b[0;34m(\u001b[0m\u001b[0;36m10\u001b[0m\u001b[0;34m)\u001b[0m\u001b[0;34m:\u001b[0m\u001b[0;34m\u001b[0m\u001b[0;34m\u001b[0m\u001b[0m\n\u001b[0m\u001b[1;32m      3\u001b[0m     \u001b[0mprint\u001b[0m \u001b[0;34m(\u001b[0m\u001b[0mword\u001b[0m\u001b[0;34m,\u001b[0m \u001b[0mcount\u001b[0m\u001b[0;34m)\u001b[0m\u001b[0;34m\u001b[0m\u001b[0;34m\u001b[0m\u001b[0m\n",
            "\u001b[0;31mAttributeError\u001b[0m: 'collections.defaultdict' object has no attribute 'most_common'"
          ]
        }
      ]
    },
    {
      "cell_type": "markdown",
      "metadata": {
        "id": "iHu49pPIPeH8",
        "colab_type": "text"
      },
      "source": [
        "### Conjuntos (sets)\n",
        "\n",
        "Outra estrutura de dados é o set (conjunto), que representa uma coleção de elementos distintos:"
      ]
    },
    {
      "cell_type": "code",
      "metadata": {
        "id": "SyArmRcLPdDD",
        "colab_type": "code",
        "colab": {}
      },
      "source": [
        "s = set() \n",
        "s.add(1) # s agora é { 1 }\n",
        "s.add(2) # s agora é { 1, 2 }\n",
        "s.add(2) # s ainda é { 1, 2 }\n",
        "x = len(s) # é igual a 2\n",
        "y = 2 in s # é igual a True\n",
        "z = 3 in s # é igual a False"
      ],
      "execution_count": null,
      "outputs": []
    },
    {
      "cell_type": "markdown",
      "metadata": {
        "id": "Hy8w14pLPxxI",
        "colab_type": "text"
      },
      "source": [
        "Usaremos os conjuntos por duas razões principais. A primeira é que in é uma operação muito rápida em conjuntos. Se tivermos uma grande coleção de itens que queiramos usar para um teste de sociedade, um conjunto é mais adequado do que uma lista:"
      ]
    },
    {
      "cell_type": "code",
      "metadata": {
        "id": "3xCTHXzMPvXW",
        "colab_type": "code",
        "colab": {
          "base_uri": "https://localhost:8080/",
          "height": 218
        },
        "outputId": "9d66148f-4670-4494-8d1b-cf8047a889ab"
      },
      "source": [
        "stopwords_list = [\"a\",\"an\",\"at\"] + hundreds_of_other_words + [\"yet\", \"you\"]\n",
        "\"zip\" in stopwords_list # Falso, mas tem que verificar todos os elementos\n",
        "stopwords_set = set(stopwords_list)\n",
        "\"zip\" in stopwords_set # muito rápido para verificar"
      ],
      "execution_count": null,
      "outputs": [
        {
          "output_type": "error",
          "ename": "NameError",
          "evalue": "ignored",
          "traceback": [
            "\u001b[0;31m---------------------------------------------------------------------------\u001b[0m",
            "\u001b[0;31mNameError\u001b[0m                                 Traceback (most recent call last)",
            "\u001b[0;32m<ipython-input-40-65b9da1530a7>\u001b[0m in \u001b[0;36m<module>\u001b[0;34m()\u001b[0m\n\u001b[0;32m----> 1\u001b[0;31m \u001b[0mstopwords_list\u001b[0m \u001b[0;34m=\u001b[0m \u001b[0;34m[\u001b[0m\u001b[0;34m\"a\"\u001b[0m\u001b[0;34m,\u001b[0m\u001b[0;34m\"an\"\u001b[0m\u001b[0;34m,\u001b[0m\u001b[0;34m\"at\"\u001b[0m\u001b[0;34m]\u001b[0m \u001b[0;34m+\u001b[0m \u001b[0mhundreds_of_other_words\u001b[0m \u001b[0;34m+\u001b[0m \u001b[0;34m[\u001b[0m\u001b[0;34m\"yet\"\u001b[0m\u001b[0;34m,\u001b[0m \u001b[0;34m\"you\"\u001b[0m\u001b[0;34m]\u001b[0m\u001b[0;34m\u001b[0m\u001b[0;34m\u001b[0m\u001b[0m\n\u001b[0m\u001b[1;32m      2\u001b[0m \u001b[0;34m\"zip\"\u001b[0m \u001b[0;32min\u001b[0m \u001b[0mstopwords_list\u001b[0m \u001b[0;31m# Falso, mas tem que verificar todos os elementos\u001b[0m\u001b[0;34m\u001b[0m\u001b[0;34m\u001b[0m\u001b[0m\n\u001b[1;32m      3\u001b[0m \u001b[0mstopwords_set\u001b[0m \u001b[0;34m=\u001b[0m \u001b[0mset\u001b[0m\u001b[0;34m(\u001b[0m\u001b[0mstopwords_list\u001b[0m\u001b[0;34m)\u001b[0m\u001b[0;34m\u001b[0m\u001b[0;34m\u001b[0m\u001b[0m\n\u001b[1;32m      4\u001b[0m \u001b[0;34m\"zip\"\u001b[0m \u001b[0;32min\u001b[0m \u001b[0mstopwords_set\u001b[0m \u001b[0;31m# muito rápido para verificar\u001b[0m\u001b[0;34m\u001b[0m\u001b[0;34m\u001b[0m\u001b[0m\n",
            "\u001b[0;31mNameError\u001b[0m: name 'hundreds_of_other_words' is not defined"
          ]
        }
      ]
    },
    {
      "cell_type": "markdown",
      "metadata": {
        "id": "cYQAX7D3P2Zv",
        "colab_type": "text"
      },
      "source": [
        "A segunda razão é encontrar os itens distintos em uma coleção:"
      ]
    },
    {
      "cell_type": "code",
      "metadata": {
        "id": "K4MVC9wUP0SR",
        "colab_type": "code",
        "colab": {}
      },
      "source": [
        "item_list = [1, 2, 3, 1, 2, 3]\n",
        "num_items = len(item_list) # 6\n",
        "item_set = set(item_list) # {1, 2, 3}\n",
        "num_distinct_items = len(item_set) # 3\n",
        "distinct_item_list = list(item_set) # [1, 2, 3]"
      ],
      "execution_count": null,
      "outputs": []
    },
    {
      "cell_type": "markdown",
      "metadata": {
        "id": "28nnd0RTP79i",
        "colab_type": "text"
      },
      "source": [
        "\n",
        "Usaremos set s com menos frequência do que dicts e lists."
      ]
    },
    {
      "cell_type": "markdown",
      "metadata": {
        "id": "JHfPgEBlP-Rl",
        "colab_type": "text"
      },
      "source": [
        "### Controle de Fluxo\n",
        "\n",
        "Como na maioria das linguagens de programação, você pode desempenhar uma ação condicionalmente usando if:"
      ]
    },
    {
      "cell_type": "code",
      "metadata": {
        "id": "T729g_iFP5YJ",
        "colab_type": "code",
        "colab": {}
      },
      "source": [
        "if 1 > 2:\n",
        "    message = \"if only 1 were greater than two...\"\n",
        "elif 1 > 3:\n",
        "    message = \"elif stands for 'else if'\"\n",
        "else:\n",
        "    message = \"when all else fails use else (if you want to)\""
      ],
      "execution_count": null,
      "outputs": []
    },
    {
      "cell_type": "code",
      "metadata": {
        "id": "EwYMpvQWQFH0",
        "colab_type": "code",
        "colab": {}
      },
      "source": [
        ""
      ],
      "execution_count": null,
      "outputs": []
    }
  ]
}