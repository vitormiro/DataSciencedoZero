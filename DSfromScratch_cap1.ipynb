{
  "nbformat": 4,
  "nbformat_minor": 0,
  "metadata": {
    "colab": {
      "name": "DSfromScratch_cap1.ipynb",
      "provenance": [],
      "authorship_tag": "ABX9TyMuA3bq4J2bgB86MiEnyg+9",
      "include_colab_link": true
    },
    "kernelspec": {
      "name": "python3",
      "display_name": "Python 3"
    }
  },
  "cells": [
    {
      "cell_type": "markdown",
      "metadata": {
        "id": "view-in-github",
        "colab_type": "text"
      },
      "source": [
        "<a href=\"https://colab.research.google.com/github/vitormiro/DataSciencedoZero/blob/master/DSfromScratch_cap1.ipynb\" target=\"_parent\"><img src=\"https://colab.research.google.com/assets/colab-badge.svg\" alt=\"Open In Colab\"/></a>"
      ]
    },
    {
      "cell_type": "markdown",
      "metadata": {
        "id": "MCgxLbIAsL1C",
        "colab_type": "text"
      },
      "source": [
        "# **Data Science do zero**\n",
        "\n",
        "*Data Science from Scratch: First Principles with Python* de Joel Grus "
      ]
    },
    {
      "cell_type": "markdown",
      "metadata": {
        "id": "sxei3MpItWFD",
        "colab_type": "text"
      },
      "source": [
        "O autor, Joel Grus, utiliza uma motivação hipotética para apesentar os conceitos e exemplos do livro. É uma abordagem muito didática e prática.\n",
        "Ele estabelece uma situação em que o leitor foi contratado para liderar os esforços de data science na empresa DataSciencester.\n",
        "O primeiro capítulo retrata o primeiro dia de trabalho na empresa.\n",
        "\n"
      ]
    },
    {
      "cell_type": "markdown",
      "metadata": {
        "id": "VC-aOxUegb3l",
        "colab_type": "text"
      },
      "source": [
        "## Encontrando Conectores-Chave"
      ]
    },
    {
      "cell_type": "markdown",
      "metadata": {
        "id": "tGmaNRPvsmBm",
        "colab_type": "text"
      },
      "source": [
        "O vice-presidente de Rede (networking) está cheio de perguntas sobre seus usuários.\n",
        "\n",
        "Particularmente, ele quer que você identifique quem são os “conectores-chave” entre os cientistas de dados. Para isso, ele lhe dá uma parte de toda a rede da DataSciencester.\n",
        "\n",
        "Os dados estão na lista abaixo:\n"
      ]
    },
    {
      "cell_type": "code",
      "metadata": {
        "id": "VnixXyj3tGYV",
        "colab_type": "code",
        "colab": {}
      },
      "source": [
        "# Usuários da Rede DataSciencester - A lista de usuários é apresentada na forma de uma lista de dicionários.\n",
        "users = [\n",
        "    { \"id\": 0, \"name\": \"Hero\" },\n",
        "    { \"id\": 1, \"name\": \"Dunn\" },\n",
        "    { \"id\": 2, \"name\": \"Sue\" },\n",
        "    { \"id\": 3, \"name\": \"Chi\" },\n",
        "    { \"id\": 4, \"name\": \"Thor\" },\n",
        "    { \"id\": 5, \"name\": \"Clive\" },\n",
        "    { \"id\": 6, \"name\": \"Hicks\" },\n",
        "    { \"id\": 7, \"name\": \"Devin\" },\n",
        "    { \"id\": 8, \"name\": \"Kate\" },\n",
        "    { \"id\": 9, \"name\": \"Klein\" }\n",
        "]"
      ],
      "execution_count": 0,
      "outputs": []
    },
    {
      "cell_type": "markdown",
      "metadata": {
        "id": "ATwxLInitz_s",
        "colab_type": "text"
      },
      "source": [
        "Ele também fornece dados em uma lista de pares de IDs:"
      ]
    },
    {
      "cell_type": "code",
      "metadata": {
        "id": "xGrJxpR5t3UK",
        "colab_type": "code",
        "colab": {}
      },
      "source": [
        "# Relacionamentos entre os usuários - uma lista de tuplas\n",
        "friendships = [(0, 1), (0, 2), (1, 2), (1, 3), (2, 3), (3, 4), (4, 5), (5, 6), (5, 7), (6, 8), (7, 8), (8, 9)]"
      ],
      "execution_count": 0,
      "outputs": []
    },
    {
      "cell_type": "markdown",
      "metadata": {
        "id": "BHUK-ccduGna",
        "colab_type": "text"
      },
      "source": [
        "Por exemplo, a tupla (0,1) indica que o cientista de dados com a `id` 0 (Hero) e o cientista de dados com a `id` 1 (Dunn) são amigos.\n",
        "\n",
        "Como os dados são representados por dicionários (`dicts`), é fácil adicionar dados extras.\n",
        "\n",
        "Para adicionar uma lista de amigos para cada usuário, primeiro configuramos a propriedade friends de cada usuário em uma lista vazia:"
      ]
    },
    {
      "cell_type": "code",
      "metadata": {
        "id": "9UpRRy5Yt8lc",
        "colab_type": "code",
        "colab": {}
      },
      "source": [
        "# configurando um atributo \"friends\" no dict de users adicionando listas vazias para cada um\n",
        "for user in users:\n",
        "    user[\"friends\"] = []"
      ],
      "execution_count": 0,
      "outputs": []
    },
    {
      "cell_type": "code",
      "metadata": {
        "id": "Hdu94RWmxexT",
        "colab_type": "code",
        "outputId": "fe2f1a61-b751-43d8-e341-33880f796f63",
        "colab": {
          "base_uri": "https://localhost:8080/",
          "height": 55
        }
      },
      "source": [
        "print(users)"
      ],
      "execution_count": 0,
      "outputs": [
        {
          "output_type": "stream",
          "text": [
            "[{'id': 0, 'name': 'Hero', 'friends': []}, {'id': 1, 'name': 'Dunn', 'friends': []}, {'id': 2, 'name': 'Sue', 'friends': []}, {'id': 3, 'name': 'Chi', 'friends': []}, {'id': 4, 'name': 'Thor', 'friends': []}, {'id': 5, 'name': 'Clive', 'friends': []}, {'id': 6, 'name': 'Hicks', 'friends': []}, {'id': 7, 'name': 'Devin', 'friends': []}, {'id': 8, 'name': 'Kate', 'friends': []}, {'id': 9, 'name': 'Klein', 'friends': []}]\n"
          ],
          "name": "stdout"
        }
      ]
    },
    {
      "cell_type": "markdown",
      "metadata": {
        "id": "-8ROznj4wAmo",
        "colab_type": "text"
      },
      "source": [
        "Então povoamos a lista com dados de `friendships`"
      ]
    },
    {
      "cell_type": "code",
      "metadata": {
        "id": "BahGTY28v-3N",
        "colab_type": "code",
        "colab": {}
      },
      "source": [
        "# Povoando a lista de relacionamentos\n",
        "for i, j in friendships: # Percorre a lista de tuplas de relação, pegando os ids dos usuários.\n",
        "    users[i][\"friends\"].append(users[j]) # Atribui j aos amigos de i\n",
        "    users[j][\"friends\"].append(users[i]) # Atribui i aos amigos de j"
      ],
      "execution_count": 0,
      "outputs": []
    },
    {
      "cell_type": "code",
      "metadata": {
        "id": "7JYqY9i9xtZZ",
        "colab_type": "code",
        "outputId": "6cac6810-eaf3-4252-9aec-fcadb920fa93",
        "colab": {
          "base_uri": "https://localhost:8080/",
          "height": 55
        }
      },
      "source": [
        "print(users)"
      ],
      "execution_count": 0,
      "outputs": [
        {
          "output_type": "stream",
          "text": [
            "[{'id': 0, 'name': 'Hero', 'friends': [{'id': 1, 'name': 'Dunn', 'friends': [{...}, {'id': 2, 'name': 'Sue', 'friends': [{...}, {...}, {'id': 3, 'name': 'Chi', 'friends': [{...}, {...}, {'id': 4, 'name': 'Thor', 'friends': [{...}, {'id': 5, 'name': 'Clive', 'friends': [{...}, {'id': 6, 'name': 'Hicks', 'friends': [{...}, {'id': 8, 'name': 'Kate', 'friends': [{...}, {'id': 7, 'name': 'Devin', 'friends': [{...}, {...}]}, {'id': 9, 'name': 'Klein', 'friends': [{...}]}]}]}, {'id': 7, 'name': 'Devin', 'friends': [{...}, {'id': 8, 'name': 'Kate', 'friends': [{'id': 6, 'name': 'Hicks', 'friends': [{...}, {...}]}, {...}, {'id': 9, 'name': 'Klein', 'friends': [{...}]}]}]}]}]}]}]}, {'id': 3, 'name': 'Chi', 'friends': [{...}, {'id': 2, 'name': 'Sue', 'friends': [{...}, {...}, {...}]}, {'id': 4, 'name': 'Thor', 'friends': [{...}, {'id': 5, 'name': 'Clive', 'friends': [{...}, {'id': 6, 'name': 'Hicks', 'friends': [{...}, {'id': 8, 'name': 'Kate', 'friends': [{...}, {'id': 7, 'name': 'Devin', 'friends': [{...}, {...}]}, {'id': 9, 'name': 'Klein', 'friends': [{...}]}]}]}, {'id': 7, 'name': 'Devin', 'friends': [{...}, {'id': 8, 'name': 'Kate', 'friends': [{'id': 6, 'name': 'Hicks', 'friends': [{...}, {...}]}, {...}, {'id': 9, 'name': 'Klein', 'friends': [{...}]}]}]}]}]}]}]}, {'id': 2, 'name': 'Sue', 'friends': [{...}, {'id': 1, 'name': 'Dunn', 'friends': [{...}, {...}, {'id': 3, 'name': 'Chi', 'friends': [{...}, {...}, {'id': 4, 'name': 'Thor', 'friends': [{...}, {'id': 5, 'name': 'Clive', 'friends': [{...}, {'id': 6, 'name': 'Hicks', 'friends': [{...}, {'id': 8, 'name': 'Kate', 'friends': [{...}, {'id': 7, 'name': 'Devin', 'friends': [{...}, {...}]}, {'id': 9, 'name': 'Klein', 'friends': [{...}]}]}]}, {'id': 7, 'name': 'Devin', 'friends': [{...}, {'id': 8, 'name': 'Kate', 'friends': [{'id': 6, 'name': 'Hicks', 'friends': [{...}, {...}]}, {...}, {'id': 9, 'name': 'Klein', 'friends': [{...}]}]}]}]}]}]}]}, {'id': 3, 'name': 'Chi', 'friends': [{'id': 1, 'name': 'Dunn', 'friends': [{...}, {...}, {...}]}, {...}, {'id': 4, 'name': 'Thor', 'friends': [{...}, {'id': 5, 'name': 'Clive', 'friends': [{...}, {'id': 6, 'name': 'Hicks', 'friends': [{...}, {'id': 8, 'name': 'Kate', 'friends': [{...}, {'id': 7, 'name': 'Devin', 'friends': [{...}, {...}]}, {'id': 9, 'name': 'Klein', 'friends': [{...}]}]}]}, {'id': 7, 'name': 'Devin', 'friends': [{...}, {'id': 8, 'name': 'Kate', 'friends': [{'id': 6, 'name': 'Hicks', 'friends': [{...}, {...}]}, {...}, {'id': 9, 'name': 'Klein', 'friends': [{...}]}]}]}]}]}]}]}]}, {'id': 1, 'name': 'Dunn', 'friends': [{'id': 0, 'name': 'Hero', 'friends': [{...}, {'id': 2, 'name': 'Sue', 'friends': [{...}, {...}, {'id': 3, 'name': 'Chi', 'friends': [{...}, {...}, {'id': 4, 'name': 'Thor', 'friends': [{...}, {'id': 5, 'name': 'Clive', 'friends': [{...}, {'id': 6, 'name': 'Hicks', 'friends': [{...}, {'id': 8, 'name': 'Kate', 'friends': [{...}, {'id': 7, 'name': 'Devin', 'friends': [{...}, {...}]}, {'id': 9, 'name': 'Klein', 'friends': [{...}]}]}]}, {'id': 7, 'name': 'Devin', 'friends': [{...}, {'id': 8, 'name': 'Kate', 'friends': [{'id': 6, 'name': 'Hicks', 'friends': [{...}, {...}]}, {...}, {'id': 9, 'name': 'Klein', 'friends': [{...}]}]}]}]}]}]}]}]}, {'id': 2, 'name': 'Sue', 'friends': [{'id': 0, 'name': 'Hero', 'friends': [{...}, {...}]}, {...}, {'id': 3, 'name': 'Chi', 'friends': [{...}, {...}, {'id': 4, 'name': 'Thor', 'friends': [{...}, {'id': 5, 'name': 'Clive', 'friends': [{...}, {'id': 6, 'name': 'Hicks', 'friends': [{...}, {'id': 8, 'name': 'Kate', 'friends': [{...}, {'id': 7, 'name': 'Devin', 'friends': [{...}, {...}]}, {'id': 9, 'name': 'Klein', 'friends': [{...}]}]}]}, {'id': 7, 'name': 'Devin', 'friends': [{...}, {'id': 8, 'name': 'Kate', 'friends': [{'id': 6, 'name': 'Hicks', 'friends': [{...}, {...}]}, {...}, {'id': 9, 'name': 'Klein', 'friends': [{...}]}]}]}]}]}]}]}, {'id': 3, 'name': 'Chi', 'friends': [{...}, {'id': 2, 'name': 'Sue', 'friends': [{'id': 0, 'name': 'Hero', 'friends': [{...}, {...}]}, {...}, {...}]}, {'id': 4, 'name': 'Thor', 'friends': [{...}, {'id': 5, 'name': 'Clive', 'friends': [{...}, {'id': 6, 'name': 'Hicks', 'friends': [{...}, {'id': 8, 'name': 'Kate', 'friends': [{...}, {'id': 7, 'name': 'Devin', 'friends': [{...}, {...}]}, {'id': 9, 'name': 'Klein', 'friends': [{...}]}]}]}, {'id': 7, 'name': 'Devin', 'friends': [{...}, {'id': 8, 'name': 'Kate', 'friends': [{'id': 6, 'name': 'Hicks', 'friends': [{...}, {...}]}, {...}, {'id': 9, 'name': 'Klein', 'friends': [{...}]}]}]}]}]}]}]}, {'id': 2, 'name': 'Sue', 'friends': [{'id': 0, 'name': 'Hero', 'friends': [{'id': 1, 'name': 'Dunn', 'friends': [{...}, {...}, {'id': 3, 'name': 'Chi', 'friends': [{...}, {...}, {'id': 4, 'name': 'Thor', 'friends': [{...}, {'id': 5, 'name': 'Clive', 'friends': [{...}, {'id': 6, 'name': 'Hicks', 'friends': [{...}, {'id': 8, 'name': 'Kate', 'friends': [{...}, {'id': 7, 'name': 'Devin', 'friends': [{...}, {...}]}, {'id': 9, 'name': 'Klein', 'friends': [{...}]}]}]}, {'id': 7, 'name': 'Devin', 'friends': [{...}, {'id': 8, 'name': 'Kate', 'friends': [{'id': 6, 'name': 'Hicks', 'friends': [{...}, {...}]}, {...}, {'id': 9, 'name': 'Klein', 'friends': [{...}]}]}]}]}]}]}]}, {...}]}, {'id': 1, 'name': 'Dunn', 'friends': [{'id': 0, 'name': 'Hero', 'friends': [{...}, {...}]}, {...}, {'id': 3, 'name': 'Chi', 'friends': [{...}, {...}, {'id': 4, 'name': 'Thor', 'friends': [{...}, {'id': 5, 'name': 'Clive', 'friends': [{...}, {'id': 6, 'name': 'Hicks', 'friends': [{...}, {'id': 8, 'name': 'Kate', 'friends': [{...}, {'id': 7, 'name': 'Devin', 'friends': [{...}, {...}]}, {'id': 9, 'name': 'Klein', 'friends': [{...}]}]}]}, {'id': 7, 'name': 'Devin', 'friends': [{...}, {'id': 8, 'name': 'Kate', 'friends': [{'id': 6, 'name': 'Hicks', 'friends': [{...}, {...}]}, {...}, {'id': 9, 'name': 'Klein', 'friends': [{...}]}]}]}]}]}]}]}, {'id': 3, 'name': 'Chi', 'friends': [{'id': 1, 'name': 'Dunn', 'friends': [{'id': 0, 'name': 'Hero', 'friends': [{...}, {...}]}, {...}, {...}]}, {...}, {'id': 4, 'name': 'Thor', 'friends': [{...}, {'id': 5, 'name': 'Clive', 'friends': [{...}, {'id': 6, 'name': 'Hicks', 'friends': [{...}, {'id': 8, 'name': 'Kate', 'friends': [{...}, {'id': 7, 'name': 'Devin', 'friends': [{...}, {...}]}, {'id': 9, 'name': 'Klein', 'friends': [{...}]}]}]}, {'id': 7, 'name': 'Devin', 'friends': [{...}, {'id': 8, 'name': 'Kate', 'friends': [{'id': 6, 'name': 'Hicks', 'friends': [{...}, {...}]}, {...}, {'id': 9, 'name': 'Klein', 'friends': [{...}]}]}]}]}]}]}]}, {'id': 3, 'name': 'Chi', 'friends': [{'id': 1, 'name': 'Dunn', 'friends': [{'id': 0, 'name': 'Hero', 'friends': [{...}, {'id': 2, 'name': 'Sue', 'friends': [{...}, {...}, {...}]}]}, {'id': 2, 'name': 'Sue', 'friends': [{'id': 0, 'name': 'Hero', 'friends': [{...}, {...}]}, {...}, {...}]}, {...}]}, {'id': 2, 'name': 'Sue', 'friends': [{'id': 0, 'name': 'Hero', 'friends': [{'id': 1, 'name': 'Dunn', 'friends': [{...}, {...}, {...}]}, {...}]}, {'id': 1, 'name': 'Dunn', 'friends': [{'id': 0, 'name': 'Hero', 'friends': [{...}, {...}]}, {...}, {...}]}, {...}]}, {'id': 4, 'name': 'Thor', 'friends': [{...}, {'id': 5, 'name': 'Clive', 'friends': [{...}, {'id': 6, 'name': 'Hicks', 'friends': [{...}, {'id': 8, 'name': 'Kate', 'friends': [{...}, {'id': 7, 'name': 'Devin', 'friends': [{...}, {...}]}, {'id': 9, 'name': 'Klein', 'friends': [{...}]}]}]}, {'id': 7, 'name': 'Devin', 'friends': [{...}, {'id': 8, 'name': 'Kate', 'friends': [{'id': 6, 'name': 'Hicks', 'friends': [{...}, {...}]}, {...}, {'id': 9, 'name': 'Klein', 'friends': [{...}]}]}]}]}]}]}, {'id': 4, 'name': 'Thor', 'friends': [{'id': 3, 'name': 'Chi', 'friends': [{'id': 1, 'name': 'Dunn', 'friends': [{'id': 0, 'name': 'Hero', 'friends': [{...}, {'id': 2, 'name': 'Sue', 'friends': [{...}, {...}, {...}]}]}, {'id': 2, 'name': 'Sue', 'friends': [{'id': 0, 'name': 'Hero', 'friends': [{...}, {...}]}, {...}, {...}]}, {...}]}, {'id': 2, 'name': 'Sue', 'friends': [{'id': 0, 'name': 'Hero', 'friends': [{'id': 1, 'name': 'Dunn', 'friends': [{...}, {...}, {...}]}, {...}]}, {'id': 1, 'name': 'Dunn', 'friends': [{'id': 0, 'name': 'Hero', 'friends': [{...}, {...}]}, {...}, {...}]}, {...}]}, {...}]}, {'id': 5, 'name': 'Clive', 'friends': [{...}, {'id': 6, 'name': 'Hicks', 'friends': [{...}, {'id': 8, 'name': 'Kate', 'friends': [{...}, {'id': 7, 'name': 'Devin', 'friends': [{...}, {...}]}, {'id': 9, 'name': 'Klein', 'friends': [{...}]}]}]}, {'id': 7, 'name': 'Devin', 'friends': [{...}, {'id': 8, 'name': 'Kate', 'friends': [{'id': 6, 'name': 'Hicks', 'friends': [{...}, {...}]}, {...}, {'id': 9, 'name': 'Klein', 'friends': [{...}]}]}]}]}]}, {'id': 5, 'name': 'Clive', 'friends': [{'id': 4, 'name': 'Thor', 'friends': [{'id': 3, 'name': 'Chi', 'friends': [{'id': 1, 'name': 'Dunn', 'friends': [{'id': 0, 'name': 'Hero', 'friends': [{...}, {'id': 2, 'name': 'Sue', 'friends': [{...}, {...}, {...}]}]}, {'id': 2, 'name': 'Sue', 'friends': [{'id': 0, 'name': 'Hero', 'friends': [{...}, {...}]}, {...}, {...}]}, {...}]}, {'id': 2, 'name': 'Sue', 'friends': [{'id': 0, 'name': 'Hero', 'friends': [{'id': 1, 'name': 'Dunn', 'friends': [{...}, {...}, {...}]}, {...}]}, {'id': 1, 'name': 'Dunn', 'friends': [{'id': 0, 'name': 'Hero', 'friends': [{...}, {...}]}, {...}, {...}]}, {...}]}, {...}]}, {...}]}, {'id': 6, 'name': 'Hicks', 'friends': [{...}, {'id': 8, 'name': 'Kate', 'friends': [{...}, {'id': 7, 'name': 'Devin', 'friends': [{...}, {...}]}, {'id': 9, 'name': 'Klein', 'friends': [{...}]}]}]}, {'id': 7, 'name': 'Devin', 'friends': [{...}, {'id': 8, 'name': 'Kate', 'friends': [{'id': 6, 'name': 'Hicks', 'friends': [{...}, {...}]}, {...}, {'id': 9, 'name': 'Klein', 'friends': [{...}]}]}]}]}, {'id': 6, 'name': 'Hicks', 'friends': [{'id': 5, 'name': 'Clive', 'friends': [{'id': 4, 'name': 'Thor', 'friends': [{'id': 3, 'name': 'Chi', 'friends': [{'id': 1, 'name': 'Dunn', 'friends': [{'id': 0, 'name': 'Hero', 'friends': [{...}, {'id': 2, 'name': 'Sue', 'friends': [{...}, {...}, {...}]}]}, {'id': 2, 'name': 'Sue', 'friends': [{'id': 0, 'name': 'Hero', 'friends': [{...}, {...}]}, {...}, {...}]}, {...}]}, {'id': 2, 'name': 'Sue', 'friends': [{'id': 0, 'name': 'Hero', 'friends': [{'id': 1, 'name': 'Dunn', 'friends': [{...}, {...}, {...}]}, {...}]}, {'id': 1, 'name': 'Dunn', 'friends': [{'id': 0, 'name': 'Hero', 'friends': [{...}, {...}]}, {...}, {...}]}, {...}]}, {...}]}, {...}]}, {...}, {'id': 7, 'name': 'Devin', 'friends': [{...}, {'id': 8, 'name': 'Kate', 'friends': [{...}, {...}, {'id': 9, 'name': 'Klein', 'friends': [{...}]}]}]}]}, {'id': 8, 'name': 'Kate', 'friends': [{...}, {'id': 7, 'name': 'Devin', 'friends': [{'id': 5, 'name': 'Clive', 'friends': [{'id': 4, 'name': 'Thor', 'friends': [{'id': 3, 'name': 'Chi', 'friends': [{'id': 1, 'name': 'Dunn', 'friends': [{'id': 0, 'name': 'Hero', 'friends': [{...}, {'id': 2, 'name': 'Sue', 'friends': [{...}, {...}, {...}]}]}, {'id': 2, 'name': 'Sue', 'friends': [{'id': 0, 'name': 'Hero', 'friends': [{...}, {...}]}, {...}, {...}]}, {...}]}, {'id': 2, 'name': 'Sue', 'friends': [{'id': 0, 'name': 'Hero', 'friends': [{'id': 1, 'name': 'Dunn', 'friends': [{...}, {...}, {...}]}, {...}]}, {'id': 1, 'name': 'Dunn', 'friends': [{'id': 0, 'name': 'Hero', 'friends': [{...}, {...}]}, {...}, {...}]}, {...}]}, {...}]}, {...}]}, {...}, {...}]}, {...}]}, {'id': 9, 'name': 'Klein', 'friends': [{...}]}]}]}, {'id': 7, 'name': 'Devin', 'friends': [{'id': 5, 'name': 'Clive', 'friends': [{'id': 4, 'name': 'Thor', 'friends': [{'id': 3, 'name': 'Chi', 'friends': [{'id': 1, 'name': 'Dunn', 'friends': [{'id': 0, 'name': 'Hero', 'friends': [{...}, {'id': 2, 'name': 'Sue', 'friends': [{...}, {...}, {...}]}]}, {'id': 2, 'name': 'Sue', 'friends': [{'id': 0, 'name': 'Hero', 'friends': [{...}, {...}]}, {...}, {...}]}, {...}]}, {'id': 2, 'name': 'Sue', 'friends': [{'id': 0, 'name': 'Hero', 'friends': [{'id': 1, 'name': 'Dunn', 'friends': [{...}, {...}, {...}]}, {...}]}, {'id': 1, 'name': 'Dunn', 'friends': [{'id': 0, 'name': 'Hero', 'friends': [{...}, {...}]}, {...}, {...}]}, {...}]}, {...}]}, {...}]}, {'id': 6, 'name': 'Hicks', 'friends': [{...}, {'id': 8, 'name': 'Kate', 'friends': [{...}, {...}, {'id': 9, 'name': 'Klein', 'friends': [{...}]}]}]}, {...}]}, {'id': 8, 'name': 'Kate', 'friends': [{'id': 6, 'name': 'Hicks', 'friends': [{'id': 5, 'name': 'Clive', 'friends': [{'id': 4, 'name': 'Thor', 'friends': [{'id': 3, 'name': 'Chi', 'friends': [{'id': 1, 'name': 'Dunn', 'friends': [{'id': 0, 'name': 'Hero', 'friends': [{...}, {'id': 2, 'name': 'Sue', 'friends': [{...}, {...}, {...}]}]}, {'id': 2, 'name': 'Sue', 'friends': [{'id': 0, 'name': 'Hero', 'friends': [{...}, {...}]}, {...}, {...}]}, {...}]}, {'id': 2, 'name': 'Sue', 'friends': [{'id': 0, 'name': 'Hero', 'friends': [{'id': 1, 'name': 'Dunn', 'friends': [{...}, {...}, {...}]}, {...}]}, {'id': 1, 'name': 'Dunn', 'friends': [{'id': 0, 'name': 'Hero', 'friends': [{...}, {...}]}, {...}, {...}]}, {...}]}, {...}]}, {...}]}, {...}, {...}]}, {...}]}, {...}, {'id': 9, 'name': 'Klein', 'friends': [{...}]}]}]}, {'id': 8, 'name': 'Kate', 'friends': [{'id': 6, 'name': 'Hicks', 'friends': [{'id': 5, 'name': 'Clive', 'friends': [{'id': 4, 'name': 'Thor', 'friends': [{'id': 3, 'name': 'Chi', 'friends': [{'id': 1, 'name': 'Dunn', 'friends': [{'id': 0, 'name': 'Hero', 'friends': [{...}, {'id': 2, 'name': 'Sue', 'friends': [{...}, {...}, {...}]}]}, {'id': 2, 'name': 'Sue', 'friends': [{'id': 0, 'name': 'Hero', 'friends': [{...}, {...}]}, {...}, {...}]}, {...}]}, {'id': 2, 'name': 'Sue', 'friends': [{'id': 0, 'name': 'Hero', 'friends': [{'id': 1, 'name': 'Dunn', 'friends': [{...}, {...}, {...}]}, {...}]}, {'id': 1, 'name': 'Dunn', 'friends': [{'id': 0, 'name': 'Hero', 'friends': [{...}, {...}]}, {...}, {...}]}, {...}]}, {...}]}, {...}]}, {...}, {'id': 7, 'name': 'Devin', 'friends': [{...}, {...}]}]}, {...}]}, {'id': 7, 'name': 'Devin', 'friends': [{'id': 5, 'name': 'Clive', 'friends': [{'id': 4, 'name': 'Thor', 'friends': [{'id': 3, 'name': 'Chi', 'friends': [{'id': 1, 'name': 'Dunn', 'friends': [{'id': 0, 'name': 'Hero', 'friends': [{...}, {'id': 2, 'name': 'Sue', 'friends': [{...}, {...}, {...}]}]}, {'id': 2, 'name': 'Sue', 'friends': [{'id': 0, 'name': 'Hero', 'friends': [{...}, {...}]}, {...}, {...}]}, {...}]}, {'id': 2, 'name': 'Sue', 'friends': [{'id': 0, 'name': 'Hero', 'friends': [{'id': 1, 'name': 'Dunn', 'friends': [{...}, {...}, {...}]}, {...}]}, {'id': 1, 'name': 'Dunn', 'friends': [{'id': 0, 'name': 'Hero', 'friends': [{...}, {...}]}, {...}, {...}]}, {...}]}, {...}]}, {...}]}, {'id': 6, 'name': 'Hicks', 'friends': [{...}, {...}]}, {...}]}, {...}]}, {'id': 9, 'name': 'Klein', 'friends': [{...}]}]}, {'id': 9, 'name': 'Klein', 'friends': [{'id': 8, 'name': 'Kate', 'friends': [{'id': 6, 'name': 'Hicks', 'friends': [{'id': 5, 'name': 'Clive', 'friends': [{'id': 4, 'name': 'Thor', 'friends': [{'id': 3, 'name': 'Chi', 'friends': [{'id': 1, 'name': 'Dunn', 'friends': [{'id': 0, 'name': 'Hero', 'friends': [{...}, {'id': 2, 'name': 'Sue', 'friends': [{...}, {...}, {...}]}]}, {'id': 2, 'name': 'Sue', 'friends': [{'id': 0, 'name': 'Hero', 'friends': [{...}, {...}]}, {...}, {...}]}, {...}]}, {'id': 2, 'name': 'Sue', 'friends': [{'id': 0, 'name': 'Hero', 'friends': [{'id': 1, 'name': 'Dunn', 'friends': [{...}, {...}, {...}]}, {...}]}, {'id': 1, 'name': 'Dunn', 'friends': [{'id': 0, 'name': 'Hero', 'friends': [{...}, {...}]}, {...}, {...}]}, {...}]}, {...}]}, {...}]}, {...}, {'id': 7, 'name': 'Devin', 'friends': [{...}, {...}]}]}, {...}]}, {'id': 7, 'name': 'Devin', 'friends': [{'id': 5, 'name': 'Clive', 'friends': [{'id': 4, 'name': 'Thor', 'friends': [{'id': 3, 'name': 'Chi', 'friends': [{'id': 1, 'name': 'Dunn', 'friends': [{'id': 0, 'name': 'Hero', 'friends': [{...}, {'id': 2, 'name': 'Sue', 'friends': [{...}, {...}, {...}]}]}, {'id': 2, 'name': 'Sue', 'friends': [{'id': 0, 'name': 'Hero', 'friends': [{...}, {...}]}, {...}, {...}]}, {...}]}, {'id': 2, 'name': 'Sue', 'friends': [{'id': 0, 'name': 'Hero', 'friends': [{'id': 1, 'name': 'Dunn', 'friends': [{...}, {...}, {...}]}, {...}]}, {'id': 1, 'name': 'Dunn', 'friends': [{'id': 0, 'name': 'Hero', 'friends': [{...}, {...}]}, {...}, {...}]}, {...}]}, {...}]}, {...}]}, {'id': 6, 'name': 'Hicks', 'friends': [{...}, {...}]}, {...}]}, {...}]}, {...}]}]}]\n"
          ],
          "name": "stdout"
        }
      ]
    },
    {
      "cell_type": "markdown",
      "metadata": {
        "id": "DsV5g3Tkx997",
        "colab_type": "text"
      },
      "source": [
        "“Qual é o número médio de conexões?”\n",
        "\n",
        "Primeiro encontramos o número total de conexões e em seguida, dividimos pelo número de usuários:"
      ]
    },
    {
      "cell_type": "code",
      "metadata": {
        "id": "P2NxxNxzxt6s",
        "colab_type": "code",
        "colab": {}
      },
      "source": [
        "# Função para encontrar o número de amigos de cada usuário.\n",
        "def number_of_friends(user):\n",
        "    \"\"\" quantos amigos o usuário tem?\"\"\"\n",
        "    return len(user['friends']) # Retorna o tamanho da lista de amigos de um usuário\n",
        "\n",
        "total_connections = sum(number_of_friends(user) for user in users) # Somatório do número de amigos de cada usuário da rede"
      ],
      "execution_count": 0,
      "outputs": []
    },
    {
      "cell_type": "code",
      "metadata": {
        "id": "nFE3gn-j01MK",
        "colab_type": "code",
        "outputId": "64da47f3-c808-4a07-9d75-b6408c99e89e",
        "colab": {
          "base_uri": "https://localhost:8080/",
          "height": 35
        }
      },
      "source": [
        "print(total_connections)"
      ],
      "execution_count": 0,
      "outputs": [
        {
          "output_type": "stream",
          "text": [
            "24\n"
          ],
          "name": "stdout"
        }
      ]
    },
    {
      "cell_type": "code",
      "metadata": {
        "id": "0OiM0lU3yi3F",
        "colab_type": "code",
        "colab": {}
      },
      "source": [
        "# Dividindo pelo número de usuários para obter o número médio de conexões\n",
        "from __future__ import division\n",
        "num_users = len(users) # Número de usuários da rede\n",
        "avg_connections = total_connections/num_users # Média de Conexões por usuário"
      ],
      "execution_count": 0,
      "outputs": []
    },
    {
      "cell_type": "code",
      "metadata": {
        "id": "Kn7mfphJ0vcb",
        "colab_type": "code",
        "outputId": "e5fa8b96-1026-4d7d-8908-ed74048045ce",
        "colab": {
          "base_uri": "https://localhost:8080/",
          "height": 35
        }
      },
      "source": [
        "print(avg_connections)"
      ],
      "execution_count": 0,
      "outputs": [
        {
          "output_type": "stream",
          "text": [
            "2.4\n"
          ],
          "name": "stdout"
        }
      ]
    },
    {
      "cell_type": "markdown",
      "metadata": {
        "id": "yNOVVq0Y1WTH",
        "colab_type": "text"
      },
      "source": [
        "Como não há muitos usuários, podemos ordená-los"
      ]
    },
    {
      "cell_type": "code",
      "metadata": {
        "id": "EbILdyC91DSi",
        "colab_type": "code",
        "outputId": "ed2d4e13-8cc0-4d5a-a21a-d98676d4e77d",
        "colab": {
          "base_uri": "https://localhost:8080/",
          "height": 191
        }
      },
      "source": [
        "# Ordenando os usuários pela quantidade de amigos (em ordem decrescente)\n",
        "num_friends_by_id = [(user[\"id\"], number_of_friends(user)) for user in users]\n",
        "sorted(num_friends_by_id, key=lambda num_friends: num_friends, reverse=True)\n"
      ],
      "execution_count": 9,
      "outputs": [
        {
          "output_type": "execute_result",
          "data": {
            "text/plain": [
              "[(9, 1),\n",
              " (8, 3),\n",
              " (7, 2),\n",
              " (6, 2),\n",
              " (5, 3),\n",
              " (4, 2),\n",
              " (3, 3),\n",
              " (2, 3),\n",
              " (1, 3),\n",
              " (0, 2)]"
            ]
          },
          "metadata": {
            "tags": []
          },
          "execution_count": 9
        }
      ]
    },
    {
      "cell_type": "markdown",
      "metadata": {
        "id": "98j8qaRh3OY2",
        "colab_type": "text"
      },
      "source": [
        "## Cientistas de Dados Que Você Talvez Conheça"
      ]
    },
    {
      "cell_type": "markdown",
      "metadata": {
        "id": "KFtZazFdNFTI",
        "colab_type": "text"
      },
      "source": [
        "A vice-presidente da Fraternidade quer estimular mais conexões entre os seus membros, e pede que você desenvolva sugestões de “Cientistas de Dados Que Você Talvez Conheça”.\n",
        "\n",
        "Seu primeiro instinto é sugerir um usuário que possa conhecer amigos de amigos. São fáceis de computar: para cada amigo de um usuário, itera sobre os amigos daquela pessoa, e coleta todos os resultados:"
      ]
    },
    {
      "cell_type": "code",
      "metadata": {
        "id": "XwS4uLe_1aPS",
        "colab_type": "code",
        "colab": {}
      },
      "source": [
        "def friends_of_friend_ids_bad(user):\n",
        "    # foaf é a abreviação de \"friend of a friend\"\n",
        "    return [foaf[\"id\"] \n",
        "            for friend in user[\"friends\"] \n",
        "            for foaf in friend[\"friends\"]]"
      ],
      "execution_count": 0,
      "outputs": []
    },
    {
      "cell_type": "code",
      "metadata": {
        "id": "t-ebBPFdjJxn",
        "colab_type": "code",
        "colab": {
          "base_uri": "https://localhost:8080/",
          "height": 35
        },
        "outputId": "bb195299-d71d-4839-e16a-0f9accc22523"
      },
      "source": [
        "friends_of_friend_ids_bad(users[0]) # Amigos em Comum de Hero"
      ],
      "execution_count": 11,
      "outputs": [
        {
          "output_type": "execute_result",
          "data": {
            "text/plain": [
              "[0, 2, 3, 0, 1, 3]"
            ]
          },
          "metadata": {
            "tags": []
          },
          "execution_count": 11
        }
      ]
    },
    {
      "cell_type": "markdown",
      "metadata": {
        "id": "-jFcEefejU5k",
        "colab_type": "text"
      },
      "source": [
        "Note que o código acima não é uma boa opção pois duplica os ids uma vez que pega todos os amigos dos seus amigos, incluindo ele mesmo.\n"
      ]
    },
    {
      "cell_type": "code",
      "metadata": {
        "id": "q9VhZowWjLdT",
        "colab_type": "code",
        "colab": {
          "base_uri": "https://localhost:8080/",
          "height": 69
        },
        "outputId": "2f5c5654-2e7e-4366-a412-e8f001401bd6"
      },
      "source": [
        "print([friend[\"id\"] for friend in users[0][\"friends\"]]) \n",
        "print([friend[\"id\"] for friend in users[1][\"friends\"]]) \n",
        "print([friend[\"id\"] for friend in users[2][\"friends\"]])"
      ],
      "execution_count": 12,
      "outputs": [
        {
          "output_type": "stream",
          "text": [
            "[1, 2]\n",
            "[0, 2, 3]\n",
            "[0, 1, 3]\n"
          ],
          "name": "stdout"
        }
      ]
    },
    {
      "cell_type": "markdown",
      "metadata": {
        "id": "3HKNY1XHjvki",
        "colab_type": "text"
      },
      "source": [
        "As funções abaixo eliminam duplicatas e os que já são amigos.\n",
        "Além disso, faz uma contagem de amigos em comum."
      ]
    },
    {
      "cell_type": "code",
      "metadata": {
        "id": "UDVJtT0rjnwZ",
        "colab_type": "code",
        "colab": {
          "base_uri": "https://localhost:8080/",
          "height": 35
        },
        "outputId": "a7d23059-38d9-4ca9-d3c8-e6a467383362"
      },
      "source": [
        "from collections import Counter      # Função de contagem não carregada por padrão\n",
        "\n",
        "# Verifica se dois usuários não são os mesmos, retorna True ou False\n",
        "def not_the_same(user, other_user):\n",
        "    \"\"\"Dois usuários não são os mesmos se possuem ids diferentes\"\"\"\n",
        "    return user[\"id\"] != other_user[\"id\"]\n",
        "\n",
        "# Verifica se dois usuários não são amigos\n",
        "def not_friends(user, other_user):\n",
        "    \"\"\"other_user não é um amigo se não está em user[\"friends\"]; isso é, se é not_the_same com todas as pessoas em user[\"friends\"]\"\"\"\n",
        "    return all(not_the_same(friend, other_user) \n",
        "               for friend in user[\"friends\"])\n",
        "\n",
        "# Função para encontrar amigos em comum\n",
        "def friends_of_friend_ids(user):\n",
        "    return Counter(foaf[\"id\"]\n",
        "                  for friend in user[\"friends\"] \n",
        "                  for foaf in friend[\"friends\"] \n",
        "                  if not_the_same(user, foaf)   \n",
        "                   and not_friends(user, foaf))\n",
        "\n",
        "print(friends_of_friend_ids(users[3]))"
      ],
      "execution_count": 13,
      "outputs": [
        {
          "output_type": "stream",
          "text": [
            "Counter({0: 2, 5: 1})\n"
          ],
          "name": "stdout"
        }
      ]
    },
    {
      "cell_type": "markdown",
      "metadata": {
        "id": "1asrJ3Ihkpla",
        "colab_type": "text"
      },
      "source": [
        "Como um cientista de dados, você sabe que você pode gostar de encontrar usuários com interesses similares. Depois de perguntar por aí, você consegue pôr as mãos nesse dado, como uma lista de pares `(user_id, interest)` :\n"
      ]
    },
    {
      "cell_type": "code",
      "metadata": {
        "id": "f4-l4xvHkxgp",
        "colab_type": "code",
        "colab": {}
      },
      "source": [
        "# lista de pares (user_id, interest)\n",
        "interests = [\n",
        "(0, \"Hadoop\"), (0, \"Big Data\"), (0, \"HBase\"), (0, \"Java\"), (0, \"Spark\"), (0, \"Storm\"), \n",
        "(0, \"Cassandra\"),\n",
        "(1, \"NoSQL\"), (1, \"MongoDB\"), (1, \"Cassandra\"), (1, \"HBase\"), (1, \"Postgres\"), \n",
        "(2, \"Python\"), (2, \"scikit-learn\"), (2, \"scipy\"), (2, \"numpy\"), (2, \"statsmodels\"), (2, \"pandas\"), \n",
        "(3, \"R\"), (3, \"Python\"), (3, \"statistics\"), (3, \"regression\"), (3, \"probability\"),\n",
        "(4, \"machine learning\"), (4, \"regression\"), (4, \"decision trees\"), (4, \"libsvm\"), \n",
        "(5, \"Python\"), (5, \"R\"), (5, \"Java\"), (5, \"C++\"), (5, \"Haskell\"), (5, \"programming languages\"), \n",
        "(6, \"statistics\"), (6, \"probability\"), (6, \"mathematics\"), (6, \"theory\"),\n",
        "(7, \"machine learning\"), (7, \"scikit-learn\"), (7, \"Mahout\"), (7, \"neural networks\"), \n",
        "(8, \"neural networks\"), (8, \"deep learning\"),(8, \"Big Data\"), (8, \"artificial intelligence\"), \n",
        "(9, \"Hadoop\"), (9, \"Java\"), (9, \"MapReduce\"), (9, \"Big Data\")\n",
        "]"
      ],
      "execution_count": 0,
      "outputs": []
    },
    {
      "cell_type": "markdown",
      "metadata": {
        "id": "r88658eQlCKV",
        "colab_type": "text"
      },
      "source": [
        "Vamos construir uma função que encontre usuários com o mesmo interesse."
      ]
    },
    {
      "cell_type": "code",
      "metadata": {
        "id": "azEsc7hvlHqV",
        "colab_type": "code",
        "colab": {}
      },
      "source": [
        "# Função que retorna os ids de pessoas com interesse em determinado tema\n",
        "def data_scientists_who_like(target_interest):\n",
        "    return [user_id\n",
        "            for user_id, user_interest in interests\n",
        "            if user_interest == target_interest]"
      ],
      "execution_count": 0,
      "outputs": []
    },
    {
      "cell_type": "code",
      "metadata": {
        "id": "RWEPD9fFlP0i",
        "colab_type": "code",
        "colab": {
          "base_uri": "https://localhost:8080/",
          "height": 35
        },
        "outputId": "c9cde418-1b55-405b-d847-6058b3af6651"
      },
      "source": [
        "print(data_scientists_who_like(\"R\"))"
      ],
      "execution_count": 16,
      "outputs": [
        {
          "output_type": "stream",
          "text": [
            "[3, 5]\n"
          ],
          "name": "stdout"
        }
      ]
    },
    {
      "cell_type": "markdown",
      "metadata": {
        "id": "tuQg1e-JlnH0",
        "colab_type": "text"
      },
      "source": [
        "Para listas com muitos usuários e interesses, é melhor contruir um indice de interesses:"
      ]
    },
    {
      "cell_type": "code",
      "metadata": {
        "id": "7dz84qxNldPc",
        "colab_type": "code",
        "colab": {}
      },
      "source": [
        "from collections import defaultdict\n",
        "\n",
        "# As chaves são interesses, e os valores são listas de user_ids com interests\n",
        "user_ids_by_interest = defaultdict(list)\n",
        "\n",
        "for user_id, interest in interests:\n",
        "    user_ids_by_interest[interest].append(user_id)\n",
        "\n",
        "# As chaves são user_ids, os valores são as listas de interests para aquele user_id \n",
        "interests_by_user_id = defaultdict(list)\n",
        "\n",
        "for user_id, interest in interests:\n",
        "    interests_by_user_id[user_id].append(interest)"
      ],
      "execution_count": 0,
      "outputs": []
    },
    {
      "cell_type": "code",
      "metadata": {
        "id": "SsN8UD_hmUs9",
        "colab_type": "code",
        "colab": {
          "base_uri": "https://localhost:8080/",
          "height": 607
        },
        "outputId": "a2a7b3ef-3d59-4b1d-ccc4-9809dce83edf"
      },
      "source": [
        "user_ids_by_interest"
      ],
      "execution_count": 18,
      "outputs": [
        {
          "output_type": "execute_result",
          "data": {
            "text/plain": [
              "defaultdict(list,\n",
              "            {'Big Data': [0, 8, 9],\n",
              "             'C++': [5],\n",
              "             'Cassandra': [0, 1],\n",
              "             'HBase': [0, 1],\n",
              "             'Hadoop': [0, 9],\n",
              "             'Haskell': [5],\n",
              "             'Java': [0, 5, 9],\n",
              "             'Mahout': [7],\n",
              "             'MapReduce': [9],\n",
              "             'MongoDB': [1],\n",
              "             'NoSQL': [1],\n",
              "             'Postgres': [1],\n",
              "             'Python': [2, 3, 5],\n",
              "             'R': [3, 5],\n",
              "             'Spark': [0],\n",
              "             'Storm': [0],\n",
              "             'artificial intelligence': [8],\n",
              "             'decision trees': [4],\n",
              "             'deep learning': [8],\n",
              "             'libsvm': [4],\n",
              "             'machine learning': [4, 7],\n",
              "             'mathematics': [6],\n",
              "             'neural networks': [7, 8],\n",
              "             'numpy': [2],\n",
              "             'pandas': [2],\n",
              "             'probability': [3, 6],\n",
              "             'programming languages': [5],\n",
              "             'regression': [3, 4],\n",
              "             'scikit-learn': [2, 7],\n",
              "             'scipy': [2],\n",
              "             'statistics': [3, 6],\n",
              "             'statsmodels': [2],\n",
              "             'theory': [6]})"
            ]
          },
          "metadata": {
            "tags": []
          },
          "execution_count": 18
        }
      ]
    },
    {
      "cell_type": "code",
      "metadata": {
        "id": "wujJ10OamdWL",
        "colab_type": "code",
        "colab": {
          "base_uri": "https://localhost:8080/",
          "height": 589
        },
        "outputId": "63e6f637-27da-4797-fd20-71368adff0d6"
      },
      "source": [
        "interests_by_user_id"
      ],
      "execution_count": 19,
      "outputs": [
        {
          "output_type": "execute_result",
          "data": {
            "text/plain": [
              "defaultdict(list,\n",
              "            {0: ['Hadoop',\n",
              "              'Big Data',\n",
              "              'HBase',\n",
              "              'Java',\n",
              "              'Spark',\n",
              "              'Storm',\n",
              "              'Cassandra'],\n",
              "             1: ['NoSQL', 'MongoDB', 'Cassandra', 'HBase', 'Postgres'],\n",
              "             2: ['Python',\n",
              "              'scikit-learn',\n",
              "              'scipy',\n",
              "              'numpy',\n",
              "              'statsmodels',\n",
              "              'pandas'],\n",
              "             3: ['R', 'Python', 'statistics', 'regression', 'probability'],\n",
              "             4: ['machine learning', 'regression', 'decision trees', 'libsvm'],\n",
              "             5: ['Python',\n",
              "              'R',\n",
              "              'Java',\n",
              "              'C++',\n",
              "              'Haskell',\n",
              "              'programming languages'],\n",
              "             6: ['statistics', 'probability', 'mathematics', 'theory'],\n",
              "             7: ['machine learning',\n",
              "              'scikit-learn',\n",
              "              'Mahout',\n",
              "              'neural networks'],\n",
              "             8: ['neural networks',\n",
              "              'deep learning',\n",
              "              'Big Data',\n",
              "              'artificial intelligence'],\n",
              "             9: ['Hadoop', 'Java', 'MapReduce', 'Big Data']})"
            ]
          },
          "metadata": {
            "tags": []
          },
          "execution_count": 19
        }
      ]
    },
    {
      "cell_type": "markdown",
      "metadata": {
        "id": "iTKw2ycEmqty",
        "colab_type": "text"
      },
      "source": [
        "Agora fica fácil descobrir quem possui os maiores interesses em comum com um certo usuário:\n",
        "\n",
        "- Itera sobre os interesses do usuário.\n",
        "- Para cada interesse, itera sobre os outros usuários com aquele interesse.\n",
        "- Mantém a contagem de quantas vezes vemos cada outro usuário."
      ]
    },
    {
      "cell_type": "code",
      "metadata": {
        "id": "ijWE16llmlkJ",
        "colab_type": "code",
        "colab": {
          "base_uri": "https://localhost:8080/",
          "height": 35
        },
        "outputId": "c79a5dad-1894-42e0-f1a8-8d9a36ae3091"
      },
      "source": [
        "# Retorna os usuários com interesses em comum com um determinado usuário\n",
        "def most_common_interests_with(user):\n",
        "    return Counter(interested_user_id\n",
        "                    for interest in interests_by_user_id[user[\"id\"]]\n",
        "                    for interested_user_id in user_ids_by_interest[interest]\n",
        "                    if interested_user_id != user[\"id\"])\n",
        "\n",
        "most_common_interests_with(users[0])"
      ],
      "execution_count": 20,
      "outputs": [
        {
          "output_type": "execute_result",
          "data": {
            "text/plain": [
              "Counter({1: 2, 5: 1, 8: 1, 9: 3})"
            ]
          },
          "metadata": {
            "tags": []
          },
          "execution_count": 20
        }
      ]
    },
    {
      "cell_type": "markdown",
      "metadata": {
        "id": "fTilYkVXm6jC",
        "colab_type": "text"
      },
      "source": [
        "## Salários e Experiência\n",
        "\n",
        "O vice-presidente de Relações Públicas pergunta se você pode fornecer alguns fatos curiosos sobre quanto os cientistas de dados recebem.\n",
        "\n",
        "Ele consegue fornecer um conjunto de dados anônimos contendo o salary (salário) de cada usuário (em dólares) e tenure (experiência) como um cientista de dados (em anos):"
      ]
    },
    {
      "cell_type": "code",
      "metadata": {
        "id": "S6YErpoYm1lh",
        "colab_type": "code",
        "colab": {}
      },
      "source": [
        "salaries_and_tenures = [\n",
        "    (83000, 8.7), (88000, 8.1),\n",
        "    (48000, 0.7), (76000, 6),\n",
        "    (69000, 6.5), (76000, 7.5),\n",
        "    (60000, 2.5), (83000, 10),\n",
        "    (48000, 1.9), (63000, 4.2)\n",
        "]"
      ],
      "execution_count": 0,
      "outputs": []
    },
    {
      "cell_type": "markdown",
      "metadata": {
        "id": "gp_6_-jdnfCH",
        "colab_type": "text"
      },
      "source": [
        "A primeira ideia é analisar a média salarial para cada ano:"
      ]
    },
    {
      "cell_type": "code",
      "metadata": {
        "id": "5HkMRKzbnWC3",
        "colab_type": "code",
        "colab": {}
      },
      "source": [
        "# As chaves são os anos, os valores são as listas dos salários para cada ano\n",
        "salary_by_tenure = defaultdict(list)\n",
        "\n",
        "for salary, tenure in salaries_and_tenures:\n",
        "    salary_by_tenure[tenure].append(salary)\n",
        "    \n",
        "# as chaves são os anos, cada valor é a média salarial para aquele ano\n",
        "average_salary_by_tenure = {\n",
        "    tenure : sum(salaries) / len(salaries)\n",
        "    for tenure, salaries in salary_by_tenure.items()\n",
        "}"
      ],
      "execution_count": 0,
      "outputs": []
    },
    {
      "cell_type": "code",
      "metadata": {
        "id": "GNKD09VRnYHF",
        "colab_type": "code",
        "colab": {
          "base_uri": "https://localhost:8080/",
          "height": 191
        },
        "outputId": "455bee7e-f10d-451a-d8e7-e524c13236dc"
      },
      "source": [
        "average_salary_by_tenure"
      ],
      "execution_count": 24,
      "outputs": [
        {
          "output_type": "execute_result",
          "data": {
            "text/plain": [
              "{0.7: 48000.0,\n",
              " 1.9: 48000.0,\n",
              " 2.5: 60000.0,\n",
              " 4.2: 63000.0,\n",
              " 6: 76000.0,\n",
              " 6.5: 69000.0,\n",
              " 7.5: 76000.0,\n",
              " 8.1: 88000.0,\n",
              " 8.7: 83000.0,\n",
              " 10: 83000.0}"
            ]
          },
          "metadata": {
            "tags": []
          },
          "execution_count": 24
        }
      ]
    },
    {
      "cell_type": "markdown",
      "metadata": {
        "id": "TNapkFTPoDhB",
        "colab_type": "text"
      },
      "source": [
        "Não é muito útil, já que nenhum dos usuários possui o mesmo caso, o que significa que estamos reportando apenas os salários individuais dos usuários.\n",
        "\n",
        "Talvez fosse mais proveitoso agrupar os casos:"
      ]
    },
    {
      "cell_type": "code",
      "metadata": {
        "id": "ntlChrzGn8lb",
        "colab_type": "code",
        "colab": {}
      },
      "source": [
        "def tenure_bucket(tenure): # O agrupamento é feito segundo essas condições\n",
        "    if tenure < 2:\n",
        "        return \"less than two\"\n",
        "    elif tenure < 5:\n",
        "        return \"between two and five\"\n",
        "    else:\n",
        "        return \"more than five\""
      ],
      "execution_count": 0,
      "outputs": []
    },
    {
      "cell_type": "markdown",
      "metadata": {
        "id": "gs4vkXceoTjV",
        "colab_type": "text"
      },
      "source": [
        "Juntando os salários correspondentes para cada agrupamento"
      ]
    },
    {
      "cell_type": "code",
      "metadata": {
        "id": "YuvXbJbvoP6y",
        "colab_type": "code",
        "colab": {}
      },
      "source": [
        "# as chaves são agrupamentos dos casos, os valores são as listas dos salários para aquele agrupamento\n",
        "salary_by_tenure_bucket = defaultdict(list)\n",
        "\n",
        "for salary, tenure in salaries_and_tenures:\n",
        "    bucket = tenure_bucket(tenure)\n",
        "    salary_by_tenure_bucket[bucket].append(salary)"
      ],
      "execution_count": 0,
      "outputs": []
    },
    {
      "cell_type": "markdown",
      "metadata": {
        "id": "Cl5CGmsGqvnT",
        "colab_type": "text"
      },
      "source": [
        "Calculando a média salarial para cada grupo"
      ]
    },
    {
      "cell_type": "code",
      "metadata": {
        "id": "Fl4MX20Uodop",
        "colab_type": "code",
        "colab": {}
      },
      "source": [
        "# as chaves são agrupamentos dos casos, os valores são a média salarial para aquele agrupamento\n",
        "average_salary_by_bucket = {\n",
        "    tenure_bucket : sum(salaries) / len(salaries)\n",
        "    for tenure_bucket, salaries in salary_by_tenure_bucket.items()\n",
        "}"
      ],
      "execution_count": 0,
      "outputs": []
    },
    {
      "cell_type": "code",
      "metadata": {
        "id": "3JQIDn2irDdS",
        "colab_type": "code",
        "colab": {
          "base_uri": "https://localhost:8080/",
          "height": 69
        },
        "outputId": "fbb69704-5c57-48fe-cd80-cafd21e831ee"
      },
      "source": [
        "average_salary_by_bucket"
      ],
      "execution_count": 29,
      "outputs": [
        {
          "output_type": "execute_result",
          "data": {
            "text/plain": [
              "{'between two and five': 61500.0,\n",
              " 'less than two': 48000.0,\n",
              " 'more than five': 79166.66666666667}"
            ]
          },
          "metadata": {
            "tags": []
          },
          "execution_count": 29
        }
      ]
    },
    {
      "cell_type": "markdown",
      "metadata": {
        "id": "B2XxPSOtrY5N",
        "colab_type": "text"
      },
      "source": [
        "## Contas Pagas\n",
        "\n",
        "A vice-presidente da Receita quer entender melhor quais são os usuários que pagam por contas e quais que não pagam."
      ]
    },
    {
      "cell_type": "code",
      "metadata": {
        "id": "p9pdX7V_rDwE",
        "colab_type": "code",
        "colab": {}
      },
      "source": [
        "dados = [\n",
        "    (0.7, \"paid\"),\n",
        "    (1.9, \"unpaid\"),\n",
        "    (2.5, \"paid\"),\n",
        "    (4.2, \"unpaid\"),\n",
        "    (6, \"unpaid\"),\n",
        "    (6.5, \"unpaid\"),\n",
        "    (7.5, \"unpaid\"),\n",
        "    (8.1, \"unpaid\"),\n",
        "    (8.7, \"paid\"),\n",
        "    (10, \"paid\")\n",
        "]"
      ],
      "execution_count": 0,
      "outputs": []
    },
    {
      "cell_type": "markdown",
      "metadata": {
        "id": "CXgnRUVVr9F6",
        "colab_type": "text"
      },
      "source": [
        "Os usuários com poucos e muitos anos de experiência tendem a pagar; os usuários com uma quantidade mediana de experiência não.\n",
        "\n",
        "Apesar de não haver dados o suficiente para servir de base para um modelo de previsão de pagamento, você tenta prever “paid” para os usuários com poucos e muitos anos de experiência, e “unpaid” para os usuários com quantidade mediana de experiência."
      ]
    },
    {
      "cell_type": "code",
      "metadata": {
        "id": "zV01p5L4rXPL",
        "colab_type": "code",
        "colab": {}
      },
      "source": [
        "def predict_paid_or_unpaid(years_experience):\n",
        "    if years_experience < 3.0:\n",
        "        return \"paid\"\n",
        "    elif years_experience < 8.5:\n",
        "        return \"unpaid\"\n",
        "    else:\n",
        "        return \"paid\"\n"
      ],
      "execution_count": 0,
      "outputs": []
    },
    {
      "cell_type": "code",
      "metadata": {
        "id": "CtTZugSWr3Cf",
        "colab_type": "code",
        "colab": {
          "base_uri": "https://localhost:8080/",
          "height": 35
        },
        "outputId": "8d9d82e5-12d9-43b0-f3a1-12b342a8c618"
      },
      "source": [
        "predict_paid_or_unpaid(5)"
      ],
      "execution_count": 33,
      "outputs": [
        {
          "output_type": "execute_result",
          "data": {
            "text/plain": [
              "'unpaid'"
            ]
          },
          "metadata": {
            "tags": []
          },
          "execution_count": 33
        }
      ]
    },
    {
      "cell_type": "markdown",
      "metadata": {
        "id": "KJNDihFssbBM",
        "colab_type": "text"
      },
      "source": [
        "## Tópicos de Interesse"
      ]
    },
    {
      "cell_type": "markdown",
      "metadata": {
        "id": "slf0wyh_slGL",
        "colab_type": "text"
      },
      "source": [
        "A vice-presidente da Estratégia de Conteúdo pede dados sobre em quais tópicos os usuários estão mais interessados, para que ela possa planejar o calendário do seu blog de acordo.\n",
        "\n",
        "Os dados brutos são os mesmos da lista `interest`."
      ]
    },
    {
      "cell_type": "code",
      "metadata": {
        "id": "ozR5oPJsr3Z3",
        "colab_type": "code",
        "colab": {
          "base_uri": "https://localhost:8080/",
          "height": 55
        },
        "outputId": "34c4b0b2-8b86-4af2-de4b-f166aa51f17f"
      },
      "source": [
        "print(interests)"
      ],
      "execution_count": 36,
      "outputs": [
        {
          "output_type": "stream",
          "text": [
            "[(0, 'Hadoop'), (0, 'Big Data'), (0, 'HBase'), (0, 'Java'), (0, 'Spark'), (0, 'Storm'), (0, 'Cassandra'), (1, 'NoSQL'), (1, 'MongoDB'), (1, 'Cassandra'), (1, 'HBase'), (1, 'Postgres'), (2, 'Python'), (2, 'scikit-learn'), (2, 'scipy'), (2, 'numpy'), (2, 'statsmodels'), (2, 'pandas'), (3, 'R'), (3, 'Python'), (3, 'statistics'), (3, 'regression'), (3, 'probability'), (4, 'machine learning'), (4, 'regression'), (4, 'decision trees'), (4, 'libsvm'), (5, 'Python'), (5, 'R'), (5, 'Java'), (5, 'C++'), (5, 'Haskell'), (5, 'programming languages'), (6, 'statistics'), (6, 'probability'), (6, 'mathematics'), (6, 'theory'), (7, 'machine learning'), (7, 'scikit-learn'), (7, 'Mahout'), (7, 'neural networks'), (8, 'neural networks'), (8, 'deep learning'), (8, 'Big Data'), (8, 'artificial intelligence'), (9, 'Hadoop'), (9, 'Java'), (9, 'MapReduce'), (9, 'Big Data')]\n"
          ],
          "name": "stdout"
        }
      ]
    },
    {
      "cell_type": "markdown",
      "metadata": {
        "id": "37e4VWMEtCRQ",
        "colab_type": "text"
      },
      "source": [
        "Uma simples forma (e também fascinante) de encontrar os interesses mais populares é fazer uma simples contagem de palavras:\n",
        "\n",
        "- Coloque cada um em letras minúsculas (já que usuários diferentes podem ou não escrever seus interesses em letras maiúsculas).\n",
        "- Divida em palavras.\n",
        "- Conte os resultados."
      ]
    },
    {
      "cell_type": "code",
      "metadata": {
        "id": "v1Mmocjws3DI",
        "colab_type": "code",
        "colab": {}
      },
      "source": [
        "words_and_counts = Counter(word \n",
        "                           for user, interest in interests \n",
        "                           for word in interest.lower().split())"
      ],
      "execution_count": 0,
      "outputs": []
    },
    {
      "cell_type": "code",
      "metadata": {
        "id": "MQdRTyVEtKdl",
        "colab_type": "code",
        "colab": {
          "base_uri": "https://localhost:8080/",
          "height": 295
        },
        "outputId": "77f6ecc6-daa5-457a-92ea-5fa650edfb3e"
      },
      "source": [
        "for word, count in words_and_counts.most_common():\n",
        "    if count > 1:\n",
        "        print (word, count)"
      ],
      "execution_count": 38,
      "outputs": [
        {
          "output_type": "stream",
          "text": [
            "big 3\n",
            "data 3\n",
            "java 3\n",
            "python 3\n",
            "learning 3\n",
            "hadoop 2\n",
            "hbase 2\n",
            "cassandra 2\n",
            "scikit-learn 2\n",
            "r 2\n",
            "statistics 2\n",
            "regression 2\n",
            "probability 2\n",
            "machine 2\n",
            "neural 2\n",
            "networks 2\n"
          ],
          "name": "stdout"
        }
      ]
    },
    {
      "cell_type": "markdown",
      "metadata": {
        "id": "HxsyL62_Nq62",
        "colab_type": "text"
      },
      "source": [
        "Fim do primeiro dia de trabalho!"
      ]
    }
  ]
}